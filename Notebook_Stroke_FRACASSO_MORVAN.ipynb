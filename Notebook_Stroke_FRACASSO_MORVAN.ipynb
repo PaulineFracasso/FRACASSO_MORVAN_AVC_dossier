{
  "nbformat": 4,
  "nbformat_minor": 0,
  "metadata": {
    "colab": {
      "provenance": []
    },
    "kernelspec": {
      "name": "python3",
      "display_name": "Python 3"
    },
    "language_info": {
      "name": "python"
    }
  },
  "cells": [
    {
      "cell_type": "markdown",
      "source": [
        "# Prévision des AVC\n",
        "\n",
        "Fracasso Pauline\n",
        "Morvan Niamh "
      ],
      "metadata": {
        "id": "9Uxz0EXmUsOY"
      }
    },
    {
      "cell_type": "markdown",
      "source": [
        "# **INSTALLATION & IMPORTATION**"
      ],
      "metadata": {
        "id": "UAROlkxiR-YD"
      }
    },
    {
      "cell_type": "markdown",
      "source": [
        "###Installation des bibliothèques##"
      ],
      "metadata": {
        "id": "FJuVuejeT9EZ"
      }
    },
    {
      "cell_type": "code",
      "source": [
        "#!pip install sklearn_evaluation"
      ],
      "metadata": {
        "id": "CyxE8fOPUXVj"
      },
      "execution_count": null,
      "outputs": []
    },
    {
      "cell_type": "code",
      "source": [
        "#!pip install tensorflow==2.11.0"
      ],
      "metadata": {
        "id": "eRqm5iTHUZRE"
      },
      "execution_count": null,
      "outputs": []
    },
    {
      "cell_type": "code",
      "source": [
        "#!pip install scikeras"
      ],
      "metadata": {
        "id": "oN9LsBx2Ubqb"
      },
      "execution_count": null,
      "outputs": []
    },
    {
      "cell_type": "markdown",
      "source": [
        "###Importation des bibliothèques##"
      ],
      "metadata": {
        "id": "9COJRiHPUOOc"
      }
    },
    {
      "cell_type": "code",
      "source": [
        "import os\n",
        "import pandas as pd\n",
        "import numpy as np\n",
        "import matplotlib.pyplot as plt\n",
        "import seaborn as sns\n",
        "import tensorflow as tf\n",
        "import scipy.stats as stats\n",
        "import statsmodels.api"
      ],
      "metadata": {
        "id": "7w63bCgOUgZf"
      },
      "execution_count": 3,
      "outputs": []
    },
    {
      "cell_type": "code",
      "source": [
        "#Modélisation \n",
        "#Téléchargement données\n",
        "from sklearn import datasets\n",
        "from sklearn.datasets import make_classification\n",
        "#Classifier\n",
        "from sklearn.svm import SVC\n",
        "from sklearn.svm import LinearSVC \n",
        "from sklearn.linear_model import SGDClassifier , LogisticRegression\n",
        "#Multiclass strategie\n",
        "from sklearn.multiclass import OneVsRestClassifier\n",
        "from sklearn.multiclass import OneVsOneClassifier\n",
        "#Regressor\n",
        "from sklearn.svm import LinearSVR\n",
        "from sklearn.svm import SVR\n",
        "#Évaluation\n",
        "from sklearn.metrics import accuracy_score, confusion_matrix, classification_report\n",
        "from sklearn.metrics import recall_score, f1_score, roc_auc_score, confusion_matrix\n",
        "from sklearn.model_selection import cross_val_score ,learning_curve ,GridSearchCV\n",
        "from sklearn.model_selection import RandomizedSearchCV\n",
        "from sklearn.model_selection import cross_val_score ,learning_curve ,GridSearchCV\n",
        "from sklearn_evaluation import plot\n",
        "#Séparation de la base de données en split et train\n",
        "from sklearn.model_selection import train_test_split\n",
        "#Standardisation\n",
        "from sklearn.preprocessing import StandardScaler\n",
        "#tenserflow\n",
        "from tensorflow import keras\n",
        "from tensorflow.random import set_seed\n",
        "from keras.models import Sequential\n",
        "from keras.layers import Dense, Flatten\n",
        "#Pour la fonction Grubbs et ESD\n",
        "import scipy.stats as stats\n",
        "#Pour le test de khi2\n",
        "from scipy.stats import chi2_contingency\n",
        "#Pour test anova\n",
        "import statsmodels.api\n",
        "from scikeras.wrappers import KerasClassifier, KerasRegressor\n",
        "#Test de Kolmogorov smirnov\n",
        "from scipy.stats import kstest\n",
        "#test de mann-witney\n",
        "from scipy.stats import mannwhitneyu\n",
        "#test chi2\n",
        "from scipy.stats import chi2_contingency\n",
        "#skewness et Kurtosis\n",
        "from scipy.stats import kurtosis\n",
        "from scipy.stats import skew"
      ],
      "metadata": {
        "id": "eiSoN7RLUjXj"
      },
      "execution_count": 109,
      "outputs": []
    },
    {
      "cell_type": "markdown",
      "source": [
        "# **IMPORTATION DES DONNÉES**"
      ],
      "metadata": {
        "id": "IbaeMnX7SIfm"
      }
    },
    {
      "cell_type": "code",
      "source": [
        "stroke = pd.read_csv(\"/content/stroke_data.csv\")"
      ],
      "metadata": {
        "id": "ecgru5b1V0dS"
      },
      "execution_count": 120,
      "outputs": []
    },
    {
      "cell_type": "markdown",
      "source": [
        "# **FONCTIONS UTILISÉES**"
      ],
      "metadata": {
        "id": "YEg2rNSbSOI2"
      }
    },
    {
      "cell_type": "code",
      "execution_count": 121,
      "metadata": {
        "id": "rAMRGyRQYl4V"
      },
      "outputs": [],
      "source": [
        "def svm_f_importances(coef_svm , names):\n",
        "    ''' \n",
        "    Cette fonction permet de visualiser l'importance de chaque variable pour le modèle SVM\n",
        "    Vous devez passer 2 arguments :\n",
        "    \n",
        "    - coef_svm : Les coéfficients du modèle disponible après votre .fit()\n",
        "      On le récupère avec la commande suite  svc_fit.coef_[0]\n",
        "      \n",
        "    - names : est le nom des features que vous avez utilisée.\n",
        "      ATTENTION à passer dans le même ordre que pour l'entrainement du modèle\n",
        "    \n",
        "    '''\n",
        "    imp = coef_svm\n",
        "    imp,names = zip(*sorted(zip(imp,names)))\n",
        "    plt.barh(range(len(names)), imp, align='center')\n",
        "    plt.yticks(range(len(names)), names)\n",
        "    plt.show()\n",
        "\n",
        "#features_names = ['input1', 'input2']\n",
        "#svm = svm.SVC(kernel='linear')\n",
        "#svm.fit(X, Y)\n",
        "#f_importances(svm.coef_[0], features_names)"
      ]
    },
    {
      "cell_type": "markdown",
      "source": [
        "# **I. ANALYSE EXPLORATOIRE**"
      ],
      "metadata": {
        "id": "mw30qSucS3TL"
      }
    },
    {
      "cell_type": "markdown",
      "source": [
        "## *1. Variable dépendante*"
      ],
      "metadata": {
        "id": "Kd-VAqYSeJXn"
      }
    },
    {
      "cell_type": "code",
      "source": [
        "plt.figure(1,figsize=(10,12))\n",
        "sns.set(style='darkgrid')\n",
        "plt.gcf().subplots_adjust(left = 0.1, bottom = 0.2, right = 1.8,top = 0.9, wspace = 0.5, hspace = 0)\n",
        "sns.countplot(stroke['stroke'], palette = \"twilight_shifted\")"
      ],
      "metadata": {
        "colab": {
          "base_uri": "https://localhost:8080/",
          "height": 408
        },
        "id": "Vx_IUb9weVEn",
        "outputId": "8be2bfe5-3bf3-42f3-e612-909da52fceae"
      },
      "execution_count": 122,
      "outputs": [
        {
          "output_type": "stream",
          "name": "stderr",
          "text": [
            "/usr/local/lib/python3.8/dist-packages/seaborn/_decorators.py:36: FutureWarning: Pass the following variable as a keyword arg: x. From version 0.12, the only valid positional argument will be `data`, and passing other arguments without an explicit keyword will result in an error or misinterpretation.\n",
            "  warnings.warn(\n"
          ]
        },
        {
          "output_type": "execute_result",
          "data": {
            "text/plain": [
              "<matplotlib.axes._subplots.AxesSubplot at 0x7fe2c4c97340>"
            ]
          },
          "metadata": {},
          "execution_count": 122
        },
        {
          "output_type": "display_data",
          "data": {
            "text/plain": [
              "<Figure size 720x864 with 1 Axes>"
            ],
            "image/png": "[encoded data removed]"
          },
          "metadata": {}
        }
      ]
    },
    {
      "cell_type": "markdown",
      "source": [
        "## *2. Variables explicatives*"
      ],
      "metadata": {
        "id": "4hKCKTVUTIHN"
      }
    },
    {
      "cell_type": "markdown",
      "source": [
        "### *A. Analyse univariée*"
      ],
      "metadata": {
        "id": "88NAbxDtjxKM"
      }
    },
    {
      "cell_type": "markdown",
      "source": [
        "***VARIABLES QUANTITATIVES***"
      ],
      "metadata": {
        "id": "hxKY8VVeThJ8"
      }
    },
    {
      "cell_type": "code",
      "source": [
        "#Description des variables quantitatives\n",
        "stroke_quant = stroke[['age','bmi','avg_glucose_level']]\n",
        "stroke_quant.describe()"
      ],
      "metadata": {
        "colab": {
          "base_uri": "https://localhost:8080/",
          "height": 300
        },
        "id": "iv_lisfRkEsR",
        "outputId": "04ec9bb0-243a-4f17-d91a-3433dc86c2e0"
      },
      "execution_count": 123,
      "outputs": [
        {
          "output_type": "execute_result",
          "data": {
            "text/plain": [
              "                age           bmi  avg_glucose_level\n",
              "count  40910.000000  40910.000000       40910.000000\n",
              "mean      51.327255     30.406355         122.075901\n",
              "std       21.623969      6.835072          57.561531\n",
              "min       -9.000000     11.500000          55.120000\n",
              "25%       35.000000     25.900000          78.750000\n",
              "50%       52.000000     29.400000          97.920000\n",
              "75%       68.000000     34.100000         167.590000\n",
              "max      103.000000     92.000000         271.740000"
            ],
            "text/html": [
              "\n",
              "  <div id=\"df-b4650a03-cb19-4223-9c6a-121c6e53fea8\">\n",
              "    <div class=\"colab-df-container\">\n",
              "      <div>\n",
              "<style scoped>\n",
              "    .dataframe tbody tr th:only-of-type {\n",
              "        vertical-align: middle;\n",
              "    }\n",
              "\n",
              "    .dataframe tbody tr th {\n",
              "        vertical-align: top;\n",
              "    }\n",
              "\n",
              "    .dataframe thead th {\n",
              "        text-align: right;\n",
              "    }\n",
              "</style>\n",
              "<table border=\"1\" class=\"dataframe\">\n",
              "  <thead>\n",
              "    <tr style=\"text-align: right;\">\n",
              "      <th></th>\n",
              "      <th>age</th>\n",
              "      <th>bmi</th>\n",
              "      <th>avg_glucose_level</th>\n",
              "    </tr>\n",
              "  </thead>\n",
              "  <tbody>\n",
              "    <tr>\n",
              "      <th>count</th>\n",
              "      <td>40910.000000</td>\n",
              "      <td>40910.000000</td>\n",
              "      <td>40910.000000</td>\n",
              "    </tr>\n",
              "    <tr>\n",
              "      <th>mean</th>\n",
              "      <td>51.327255</td>\n",
              "      <td>30.406355</td>\n",
              "      <td>122.075901</td>\n",
              "    </tr>\n",
              "    <tr>\n",
              "      <th>std</th>\n",
              "      <td>21.623969</td>\n",
              "      <td>6.835072</td>\n",
              "      <td>57.561531</td>\n",
              "    </tr>\n",
              "    <tr>\n",
              "      <th>min</th>\n",
              "      <td>-9.000000</td>\n",
              "      <td>11.500000</td>\n",
              "      <td>55.120000</td>\n",
              "    </tr>\n",
              "    <tr>\n",
              "      <th>25%</th>\n",
              "      <td>35.000000</td>\n",
              "      <td>25.900000</td>\n",
              "      <td>78.750000</td>\n",
              "    </tr>\n",
              "    <tr>\n",
              "      <th>50%</th>\n",
              "      <td>52.000000</td>\n",
              "      <td>29.400000</td>\n",
              "      <td>97.920000</td>\n",
              "    </tr>\n",
              "    <tr>\n",
              "      <th>75%</th>\n",
              "      <td>68.000000</td>\n",
              "      <td>34.100000</td>\n",
              "      <td>167.590000</td>\n",
              "    </tr>\n",
              "    <tr>\n",
              "      <th>max</th>\n",
              "      <td>103.000000</td>\n",
              "      <td>92.000000</td>\n",
              "      <td>271.740000</td>\n",
              "    </tr>\n",
              "  </tbody>\n",
              "</table>\n",
              "</div>\n",
              "      <button class=\"colab-df-convert\" onclick=\"convertToInteractive('df-b4650a03-cb19-4223-9c6a-121c6e53fea8')\"\n",
              "              title=\"Convert this dataframe to an interactive table.\"\n",
              "              style=\"display:none;\">\n",
              "        \n",
              "  <svg xmlns=\"http://www.w3.org/2000/svg\" height=\"24px\"viewBox=\"0 0 24 24\"\n",
              "       width=\"24px\">\n",
              "    <path d=\"M0 0h24v24H0V0z\" fill=\"none\"/>\n",
              "    <path d=\"M18.56 5.44l.94 2.06.94-2.06 2.06-.94-2.06-.94-.94-2.06-.94 2.06-2.06.94zm-11 1L8.5 8.5l.94-2.06 2.06-.94-2.06-.94L8.5 2.5l-.94 2.06-2.06.94zm10 10l.94 2.06.94-2.06 2.06-.94-2.06-.94-.94-2.06-.94 2.06-2.06.94z\"/><path d=\"M17.41 7.96l-1.37-1.37c-.4-.4-.92-.59-1.43-.59-.52 0-1.04.2-1.43.59L10.3 9.45l-7.72 7.72c-.78.78-.78 2.05 0 2.83L4 21.41c.39.39.9.59 1.41.59.51 0 1.02-.2 1.41-.59l7.78-7.78 2.81-2.81c.8-.78.8-2.07 0-2.86zM5.41 20L4 18.59l7.72-7.72 1.47 1.35L5.41 20z\"/>\n",
              "  </svg>\n",
              "      </button>\n",
              "      \n",
              "  <style>\n",
              "    .colab-df-container {\n",
              "      display:flex;\n",
              "      flex-wrap:wrap;\n",
              "      gap: 12px;\n",
              "    }\n",
              "\n",
              "    .colab-df-convert {\n",
              "      background-color: #E8F0FE;\n",
              "      border: none;\n",
              "      border-radius: 50%;\n",
              "      cursor: pointer;\n",
              "      display: none;\n",
              "      fill: #1967D2;\n",
              "      height: 32px;\n",
              "      padding: 0 0 0 0;\n",
              "      width: 32px;\n",
              "    }\n",
              "\n",
              "    .colab-df-convert:hover {\n",
              "      background-color: #E2EBFA;\n",
              "      box-shadow: 0px 1px 2px rgba(60, 64, 67, 0.3), 0px 1px 3px 1px rgba(60, 64, 67, 0.15);\n",
              "      fill: #174EA6;\n",
              "    }\n",
              "\n",
              "    [theme=dark] .colab-df-convert {\n",
              "      background-color: #3B4455;\n",
              "      fill: #D2E3FC;\n",
              "    }\n",
              "\n",
              "    [theme=dark] .colab-df-convert:hover {\n",
              "      background-color: #434B5C;\n",
              "      box-shadow: 0px 1px 3px 1px rgba(0, 0, 0, 0.15);\n",
              "      filter: drop-shadow(0px 1px 2px rgba(0, 0, 0, 0.3));\n",
              "      fill: #FFFFFF;\n",
              "    }\n",
              "  </style>\n",
              "\n",
              "      <script>\n",
              "        const buttonEl =\n",
              "          document.querySelector('#df-b4650a03-cb19-4223-9c6a-121c6e53fea8 button.colab-df-convert');\n",
              "        buttonEl.style.display =\n",
              "          google.colab.kernel.accessAllowed ? 'block' : 'none';\n",
              "\n",
              "        async function convertToInteractive(key) {\n",
              "          const element = document.querySelector('#df-b4650a03-cb19-4223-9c6a-121c6e53fea8');\n",
              "          const dataTable =\n",
              "            await google.colab.kernel.invokeFunction('convertToInteractive',\n",
              "                                                     [key], {});\n",
              "          if (!dataTable) return;\n",
              "\n",
              "          const docLinkHtml = 'Like what you see? Visit the ' +\n",
              "            '<a target=\"_blank\" href=https://colab.research.google.com/notebooks/data_table.ipynb>data table notebook</a>'\n",
              "            + ' to learn more about interactive tables.';\n",
              "          element.innerHTML = '';\n",
              "          dataTable['output_type'] = 'display_data';\n",
              "          await google.colab.output.renderOutput(dataTable, element);\n",
              "          const docLink = document.createElement('div');\n",
              "          docLink.innerHTML = docLinkHtml;\n",
              "          element.appendChild(docLink);\n",
              "        }\n",
              "      </script>\n",
              "    </div>\n",
              "  </div>\n",
              "  "
            ]
          },
          "metadata": {},
          "execution_count": 123
        }
      ]
    },
    {
      "cell_type": "code",
      "source": [
        "#Histogrammes variables quantitatives\n",
        "plt.figure(1,figsize=(20,15))\n",
        "plt.gcf().subplots_adjust(left = 0.1, bottom = 0.2, right = 1.8,top = 0.9, wspace = 0.5, hspace = 0)\n",
        "sns.set(style='darkgrid')\n",
        "plt.subplot(1,3,1)\n",
        "sns.histplot(x=\"age\", data=stroke,kde=True, color=\"darkred\")\n",
        "plt.xlabel(\"L'âge\")\n",
        "plt.ylabel(\"Fréquence\")\n",
        "plt.subplot(1,3,2)\n",
        "sns.histplot(x=\"bmi\", data=stroke,kde=True, color=\"darkred\")\n",
        "plt.xlabel(\"L'IMC : Indice de masse corporelle\")\n",
        "plt.ylabel(\"Fréquence\")\n",
        "plt.subplot(1,3,3)\n",
        "sns.histplot(x=\"avg_glucose_level\", data=stroke,kde=True, color=\"darkred\")\n",
        "plt.xlabel(\"AVC\")\n",
        "plt.ylabel(\"La moyenne glycémique\")"
      ],
      "metadata": {
        "colab": {
          "base_uri": "https://localhost:8080/",
          "height": 236
        },
        "id": "zTgp7xg1iDnK",
        "outputId": "8f727ea5-6035-4d76-c46e-5a943a1d9ce9"
      },
      "execution_count": 124,
      "outputs": [
        {
          "output_type": "execute_result",
          "data": {
            "text/plain": [
              "Text(0, 0.5, 'La moyenne glycémique')"
            ]
          },
          "metadata": {},
          "execution_count": 124
        },
        {
          "output_type": "display_data",
          "data": {
            "text/plain": [
              "<Figure size 1440x1080 with 3 Axes>"
            ],
            "image/png": "[encoded data removed]"
          },
          "metadata": {}
        }
      ]
    },
    {
      "cell_type": "code",
      "source": [
        "#Kurtosis et Skewness des variables quantitatives\n",
        "print(\"âge         \", \"bmi         \", \"avg_glucose_level \")\n",
        "print(skew(stroke_quant, axis=0, bias=True))\n",
        "print(kurtosis(stroke_quant, axis=0, bias=True))"
      ],
      "metadata": {
        "colab": {
          "base_uri": "https://localhost:8080/"
        },
        "id": "u0WEqqb8_JO8",
        "outputId": "77f14ced-c430-4a2a-aa76-d8372e0d8977"
      },
      "execution_count": 125,
      "outputs": [
        {
          "output_type": "stream",
          "name": "stdout",
          "text": [
            "âge          bmi          avg_glucose_level \n",
            "[-0.07864031  1.07734782  0.94509349]\n",
            "[-0.80192815  2.63998842 -0.50359765]\n"
          ]
        }
      ]
    },
    {
      "cell_type": "markdown",
      "source": [
        "***VARIABLES QUALITATIVES***"
      ],
      "metadata": {
        "id": "sjIZoCdxTq31"
      }
    },
    {
      "cell_type": "code",
      "source": [
        "stroke_qual = stroke[[\"sex\", \"hypertension\", \"heart_disease\", \"ever_married\", \"work_type\", \"Residence_type\", \"smoking_status\",\"stroke\" ]]\n",
        "#HISTPGRAMME D'EFFECTIFS DES VARIABLES QUALITATIVES\n",
        "fig, axes = plt.subplots(2, 4, figsize=(25, 15))\n",
        "fig.suptitle(\"HISTOGRAMME D'EFFECTIF DES VARIABLES QUALITATIVES\")\n",
        "sns.countplot(ax=axes[0, 0], x=stroke_qual[\"sex\"], palette=\"twilight_shifted\")\n",
        "sns.countplot(ax=axes[0, 1], x=stroke_qual[\"hypertension\"], palette=\"twilight_shifted\")\n",
        "sns.countplot(ax=axes[0, 2], x=stroke_qual[\"heart_disease\"], palette=\"twilight_shifted\")\n",
        "sns.countplot(ax=axes[0, 3], x=stroke_qual[\"ever_married\"], palette=\"twilight_shifted\")\n",
        "sns.countplot(ax=axes[1, 0], x=stroke_qual[\"work_type\"], palette=\"twilight_shifted\")\n",
        "sns.countplot(ax=axes[1, 1], x=stroke_qual[\"Residence_type\"], palette=\"twilight_shifted\")\n",
        "sns.countplot(ax=axes[1, 2], x=stroke_qual[\"smoking_status\"], palette=\"twilight_shifted\")"
      ],
      "metadata": {
        "colab": {
          "base_uri": "https://localhost:8080/",
          "height": 449
        },
        "id": "I3l3EAxIT2Qx",
        "outputId": "8973a456-879e-4ee5-9543-888dba2df7a3"
      },
      "execution_count": 126,
      "outputs": [
        {
          "output_type": "execute_result",
          "data": {
            "text/plain": [
              "<matplotlib.axes._subplots.AxesSubplot at 0x7fe2c044db80>"
            ]
          },
          "metadata": {},
          "execution_count": 126
        },
        {
          "output_type": "display_data",
          "data": {
            "text/plain": [
              "<Figure size 1800x1080 with 8 Axes>"
            ],
            "image/png": "[encoded data removed]"
          },
          "metadata": {}
        }
      ]
    },
    {
      "cell_type": "markdown",
      "source": [
        "### *B. Analyse bivariée*"
      ],
      "metadata": {
        "id": "7Y77cVuDj9-s"
      }
    },
    {
      "cell_type": "markdown",
      "source": [
        "***VARIABLES QUANTITATIVES***"
      ],
      "metadata": {
        "id": "gYGonq7RtM6L"
      }
    },
    {
      "cell_type": "code",
      "source": [
        "#Moyennes de chaque variable en fonction de la modalité\n",
        "stroke_moy=stroke[['age','bmi','avg_glucose_level','stroke']]\n",
        "stroke_moy.groupby('stroke').mean()"
      ],
      "metadata": {
        "id": "0IW0zxZ8vHYB",
        "colab": {
          "base_uri": "https://localhost:8080/",
          "height": 143
        },
        "outputId": "93b67061-d8a2-49dd-b313-cb063c4e4d71"
      },
      "execution_count": 127,
      "outputs": [
        {
          "output_type": "execute_result",
          "data": {
            "text/plain": [
              "              age        bmi  avg_glucose_level\n",
              "stroke                                         \n",
              "0       50.061222  30.281066         106.792555\n",
              "1       52.592669  30.531584         137.351777"
            ],
            "text/html": [
              "\n",
              "  <div id=\"df-3ad78c66-e4c3-4e33-8304-e78d4810fb6f\">\n",
              "    <div class=\"colab-df-container\">\n",
              "      <div>\n",
              "<style scoped>\n",
              "    .dataframe tbody tr th:only-of-type {\n",
              "        vertical-align: middle;\n",
              "    }\n",
              "\n",
              "    .dataframe tbody tr th {\n",
              "        vertical-align: top;\n",
              "    }\n",
              "\n",
              "    .dataframe thead th {\n",
              "        text-align: right;\n",
              "    }\n",
              "</style>\n",
              "<table border=\"1\" class=\"dataframe\">\n",
              "  <thead>\n",
              "    <tr style=\"text-align: right;\">\n",
              "      <th></th>\n",
              "      <th>age</th>\n",
              "      <th>bmi</th>\n",
              "      <th>avg_glucose_level</th>\n",
              "    </tr>\n",
              "    <tr>\n",
              "      <th>stroke</th>\n",
              "      <th></th>\n",
              "      <th></th>\n",
              "      <th></th>\n",
              "    </tr>\n",
              "  </thead>\n",
              "  <tbody>\n",
              "    <tr>\n",
              "      <th>0</th>\n",
              "      <td>50.061222</td>\n",
              "      <td>30.281066</td>\n",
              "      <td>106.792555</td>\n",
              "    </tr>\n",
              "    <tr>\n",
              "      <th>1</th>\n",
              "      <td>52.592669</td>\n",
              "      <td>30.531584</td>\n",
              "      <td>137.351777</td>\n",
              "    </tr>\n",
              "  </tbody>\n",
              "</table>\n",
              "</div>\n",
              "      <button class=\"colab-df-convert\" onclick=\"convertToInteractive('df-3ad78c66-e4c3-4e33-8304-e78d4810fb6f')\"\n",
              "              title=\"Convert this dataframe to an interactive table.\"\n",
              "              style=\"display:none;\">\n",
              "        \n",
              "  <svg xmlns=\"http://www.w3.org/2000/svg\" height=\"24px\"viewBox=\"0 0 24 24\"\n",
              "       width=\"24px\">\n",
              "    <path d=\"M0 0h24v24H0V0z\" fill=\"none\"/>\n",
              "    <path d=\"M18.56 5.44l.94 2.06.94-2.06 2.06-.94-2.06-.94-.94-2.06-.94 2.06-2.06.94zm-11 1L8.5 8.5l.94-2.06 2.06-.94-2.06-.94L8.5 2.5l-.94 2.06-2.06.94zm10 10l.94 2.06.94-2.06 2.06-.94-2.06-.94-.94-2.06-.94 2.06-2.06.94z\"/><path d=\"M17.41 7.96l-1.37-1.37c-.4-.4-.92-.59-1.43-.59-.52 0-1.04.2-1.43.59L10.3 9.45l-7.72 7.72c-.78.78-.78 2.05 0 2.83L4 21.41c.39.39.9.59 1.41.59.51 0 1.02-.2 1.41-.59l7.78-7.78 2.81-2.81c.8-.78.8-2.07 0-2.86zM5.41 20L4 18.59l7.72-7.72 1.47 1.35L5.41 20z\"/>\n",
              "  </svg>\n",
              "      </button>\n",
              "      \n",
              "  <style>\n",
              "    .colab-df-container {\n",
              "      display:flex;\n",
              "      flex-wrap:wrap;\n",
              "      gap: 12px;\n",
              "    }\n",
              "\n",
              "    .colab-df-convert {\n",
              "      background-color: #E8F0FE;\n",
              "      border: none;\n",
              "      border-radius: 50%;\n",
              "      cursor: pointer;\n",
              "      display: none;\n",
              "      fill: #1967D2;\n",
              "      height: 32px;\n",
              "      padding: 0 0 0 0;\n",
              "      width: 32px;\n",
              "    }\n",
              "\n",
              "    .colab-df-convert:hover {\n",
              "      background-color: #E2EBFA;\n",
              "      box-shadow: 0px 1px 2px rgba(60, 64, 67, 0.3), 0px 1px 3px 1px rgba(60, 64, 67, 0.15);\n",
              "      fill: #174EA6;\n",
              "    }\n",
              "\n",
              "    [theme=dark] .colab-df-convert {\n",
              "      background-color: #3B4455;\n",
              "      fill: #D2E3FC;\n",
              "    }\n",
              "\n",
              "    [theme=dark] .colab-df-convert:hover {\n",
              "      background-color: #434B5C;\n",
              "      box-shadow: 0px 1px 3px 1px rgba(0, 0, 0, 0.15);\n",
              "      filter: drop-shadow(0px 1px 2px rgba(0, 0, 0, 0.3));\n",
              "      fill: #FFFFFF;\n",
              "    }\n",
              "  </style>\n",
              "\n",
              "      <script>\n",
              "        const buttonEl =\n",
              "          document.querySelector('#df-3ad78c66-e4c3-4e33-8304-e78d4810fb6f button.colab-df-convert');\n",
              "        buttonEl.style.display =\n",
              "          google.colab.kernel.accessAllowed ? 'block' : 'none';\n",
              "\n",
              "        async function convertToInteractive(key) {\n",
              "          const element = document.querySelector('#df-3ad78c66-e4c3-4e33-8304-e78d4810fb6f');\n",
              "          const dataTable =\n",
              "            await google.colab.kernel.invokeFunction('convertToInteractive',\n",
              "                                                     [key], {});\n",
              "          if (!dataTable) return;\n",
              "\n",
              "          const docLinkHtml = 'Like what you see? Visit the ' +\n",
              "            '<a target=\"_blank\" href=https://colab.research.google.com/notebooks/data_table.ipynb>data table notebook</a>'\n",
              "            + ' to learn more about interactive tables.';\n",
              "          element.innerHTML = '';\n",
              "          dataTable['output_type'] = 'display_data';\n",
              "          await google.colab.output.renderOutput(dataTable, element);\n",
              "          const docLink = document.createElement('div');\n",
              "          docLink.innerHTML = docLinkHtml;\n",
              "          element.appendChild(docLink);\n",
              "        }\n",
              "      </script>\n",
              "    </div>\n",
              "  </div>\n",
              "  "
            ]
          },
          "metadata": {},
          "execution_count": 127
        }
      ]
    },
    {
      "cell_type": "code",
      "source": [
        "#Histogrammes de distribution \n",
        "yesstroke = stroke[stroke.stroke==1]\n",
        "nostroke = stroke[stroke.stroke==0]\n",
        "plt.figure(1,figsize=(25, 15))\n",
        "plt.gcf().subplots_adjust(left = 0.1, bottom = 0.2, right = 1.8,top = 0.9, wspace = 0.5, hspace = 0)\n",
        "sns.set(style='darkgrid')\n",
        "plt.subplot(1,3,1)\n",
        "sns.distplot(yesstroke['age'],label='stroke', color='blue')\n",
        "sns.distplot(nostroke['age'],label='nostroke',color='orange')\n",
        "plt.legend()\n",
        "plt.subplot(1,3,2)\n",
        "sns.distplot(yesstroke['bmi'],label='stroke', color='blue')\n",
        "sns.distplot(nostroke['bmi'],label='nostroke',color='orange')\n",
        "plt.legend()\n",
        "plt.subplot(1,3,3)\n",
        "sns.distplot(yesstroke['avg_glucose_level'],label='stroke', color='blue')\n",
        "sns.distplot(nostroke['avg_glucose_level'],label='nostroke',color='orange')\n",
        "plt.legend()"
      ],
      "metadata": {
        "colab": {
          "base_uri": "https://localhost:8080/",
          "height": 431
        },
        "id": "pH-LsVZVH6_O",
        "outputId": "69a550fb-5c16-4818-8ebd-2e13b202223b"
      },
      "execution_count": 128,
      "outputs": [
        {
          "output_type": "stream",
          "name": "stderr",
          "text": [
            "/usr/local/lib/python3.8/dist-packages/seaborn/distributions.py:2619: FutureWarning: `distplot` is a deprecated function and will be removed in a future version. Please adapt your code to use either `displot` (a figure-level function with similar flexibility) or `histplot` (an axes-level function for histograms).\n",
            "  warnings.warn(msg, FutureWarning)\n",
            "/usr/local/lib/python3.8/dist-packages/seaborn/distributions.py:2619: FutureWarning: `distplot` is a deprecated function and will be removed in a future version. Please adapt your code to use either `displot` (a figure-level function with similar flexibility) or `histplot` (an axes-level function for histograms).\n",
            "  warnings.warn(msg, FutureWarning)\n",
            "/usr/local/lib/python3.8/dist-packages/seaborn/distributions.py:2619: FutureWarning: `distplot` is a deprecated function and will be removed in a future version. Please adapt your code to use either `displot` (a figure-level function with similar flexibility) or `histplot` (an axes-level function for histograms).\n",
            "  warnings.warn(msg, FutureWarning)\n",
            "/usr/local/lib/python3.8/dist-packages/seaborn/distributions.py:2619: FutureWarning: `distplot` is a deprecated function and will be removed in a future version. Please adapt your code to use either `displot` (a figure-level function with similar flexibility) or `histplot` (an axes-level function for histograms).\n",
            "  warnings.warn(msg, FutureWarning)\n",
            "/usr/local/lib/python3.8/dist-packages/seaborn/distributions.py:2619: FutureWarning: `distplot` is a deprecated function and will be removed in a future version. Please adapt your code to use either `displot` (a figure-level function with similar flexibility) or `histplot` (an axes-level function for histograms).\n",
            "  warnings.warn(msg, FutureWarning)\n",
            "/usr/local/lib/python3.8/dist-packages/seaborn/distributions.py:2619: FutureWarning: `distplot` is a deprecated function and will be removed in a future version. Please adapt your code to use either `displot` (a figure-level function with similar flexibility) or `histplot` (an axes-level function for histograms).\n",
            "  warnings.warn(msg, FutureWarning)\n"
          ]
        },
        {
          "output_type": "execute_result",
          "data": {
            "text/plain": [
              "<matplotlib.legend.Legend at 0x7fe2c00ef430>"
            ]
          },
          "metadata": {},
          "execution_count": 128
        },
        {
          "output_type": "display_data",
          "data": {
            "text/plain": [
              "<Figure size 1800x1080 with 3 Axes>"
            ],
            "image/png": "[encoded data removed]"
          },
          "metadata": {}
        }
      ]
    },
    {
      "cell_type": "code",
      "source": [
        "#Boîtes à moustaches\n",
        "plt.figure(1,figsize=(25, 15))\n",
        "plt.gcf().subplots_adjust(left = 0.1, bottom = 0.2, right = 1.8,top = 0.9, wspace = 0.5, hspace = 0)\n",
        "sns.set(style='darkgrid')\n",
        "plt.subplot(1,3,1)\n",
        "sns.boxplot(x=\"stroke\",y=\"age\",data=stroke, palette=\"twilight_shifted\")\n",
        "plt.subplot(1,3,2)\n",
        "sns.boxplot(x=\"stroke\",y=\"bmi\",data=stroke, palette=\"twilight_shifted\")\n",
        "plt.subplot(1,3,3)\n",
        "sns.boxplot(x=\"stroke\",y=\"avg_glucose_level\",data=stroke, palette=\"twilight_shifted\")"
      ],
      "metadata": {
        "colab": {
          "base_uri": "https://localhost:8080/",
          "height": 197
        },
        "id": "oKPi2-fGYtWc",
        "outputId": "a53c606d-dbc8-4dce-acee-9f86624e73a3"
      },
      "execution_count": 129,
      "outputs": [
        {
          "output_type": "execute_result",
          "data": {
            "text/plain": [
              "<matplotlib.axes._subplots.AxesSubplot at 0x7fe2cefb0e50>"
            ]
          },
          "metadata": {},
          "execution_count": 129
        },
        {
          "output_type": "display_data",
          "data": {
            "text/plain": [
              "<Figure size 1800x1080 with 3 Axes>"
            ],
            "image/png": "[encoded data removed]"
          },
          "metadata": {}
        }
      ]
    },
    {
      "cell_type": "markdown",
      "source": [
        "***VARIABLES QUALITATIVES***"
      ],
      "metadata": {
        "id": "bz3EXSh0tHgU"
      }
    },
    {
      "cell_type": "code",
      "source": [
        "#Renommer 0 et 1 en no et yes pour que ça soit plus claire\n",
        "stroke_qual['stroke'] = stroke_qual['stroke'].apply(lambda x: \"Yes\" if x == 1 else \"No\")\n",
        "#Countplot en fonction de la variable stroke\n",
        "plt.figure(1,figsize=(25, 15))\n",
        "plt.gcf().subplots_adjust(left = 0.1, bottom = 0.2, right = 1.8,top = 0.9, wspace = 0.5, hspace = 0)\n",
        "sns.set(style='darkgrid')\n",
        "plt.subplot(1,7,1)\n",
        "sns.countplot(x ='sex', hue = \"stroke\", data = stroke_qual, palette=\"twilight_shifted\")\n",
        "plt.subplot(1,7,2)\n",
        "sns.countplot(x ='hypertension', hue = \"stroke\", data = stroke_qual, palette=\"twilight_shifted\")\n",
        "plt.subplot(1,7,3)\n",
        "sns.countplot(x ='heart_disease', hue = \"stroke\", data = stroke_qual, palette=\"twilight_shifted\")\n",
        "plt.subplot(1,7,4)\n",
        "sns.countplot(x ='ever_married', hue = \"stroke\", data = stroke_qual, palette=\"twilight_shifted\")\n",
        "plt.subplot(1,7,5)\n",
        "sns.countplot(x ='work_type', hue = \"stroke\", data = stroke_qual, palette=\"twilight_shifted\")\n",
        "plt.subplot(1,7,6)\n",
        "sns.countplot(x ='Residence_type', hue = \"stroke\", data = stroke_qual, palette=\"twilight_shifted\")\n",
        "plt.subplot(1,7,7)\n",
        "sns.countplot(x ='smoking_status', hue = \"stroke\", data = stroke_qual, palette=\"twilight_shifted\")"
      ],
      "metadata": {
        "id": "dsLnUNaS3vOh",
        "colab": {
          "base_uri": "https://localhost:8080/",
          "height": 324
        },
        "outputId": "cbdf61a6-59ad-4d64-c2f7-71916b9b930f"
      },
      "execution_count": 130,
      "outputs": [
        {
          "output_type": "stream",
          "name": "stderr",
          "text": [
            "<ipython-input-130-bc8f33d535ac>:2: SettingWithCopyWarning: \n",
            "A value is trying to be set on a copy of a slice from a DataFrame.\n",
            "Try using .loc[row_indexer,col_indexer] = value instead\n",
            "\n",
            "See the caveats in the documentation: https://pandas.pydata.org/pandas-docs/stable/user_guide/indexing.html#returning-a-view-versus-a-copy\n",
            "  stroke_qual['stroke'] = stroke_qual['stroke'].apply(lambda x: \"Yes\" if x == 1 else \"No\")\n"
          ]
        },
        {
          "output_type": "execute_result",
          "data": {
            "text/plain": [
              "<matplotlib.axes._subplots.AxesSubplot at 0x7fe2bf550a30>"
            ]
          },
          "metadata": {},
          "execution_count": 130
        },
        {
          "output_type": "display_data",
          "data": {
            "text/plain": [
              "<Figure size 1800x1080 with 7 Axes>"
            ],
            "image/png": "[encoded data removed]"
          },
          "metadata": {}
        }
      ]
    },
    {
      "cell_type": "markdown",
      "source": [
        "# **II. PRÉPARATION DE LA BASE DE DONNÉES**"
      ],
      "metadata": {
        "id": "wHJkugZyS82J"
      }
    },
    {
      "cell_type": "markdown",
      "source": [
        "## *1. Nettoyage des données*"
      ],
      "metadata": {
        "id": "47PdE7cSTWLh"
      }
    },
    {
      "cell_type": "markdown",
      "source": [
        "### **a. Valeur Manquantes**"
      ],
      "metadata": {
        "id": "LkkA4OkgTwNr"
      }
    },
    {
      "cell_type": "code",
      "source": [
        "#Vérification des valeurs manquantes pour les colonnes\n",
        "stroke.isna().sum(axis=0)\n",
        "  #Nous en comptons trois des lignes sur la variables sexe qui ne présentent pas de valeurs \n",
        "  #Nous observons qu'il existe trois valeurs manquantes pour la variable sexe (supposition de toute à l'heure vérifiée)\n",
        "  #Il faudra donc supprimer les lignes pour lesquelles la variable sexe présente des valeurs manquantes"
      ],
      "metadata": {
        "colab": {
          "base_uri": "https://localhost:8080/"
        },
        "id": "P76JG73AW1ua",
        "outputId": "4d61d627-3a98-46eb-a8b9-be4ea90b025c"
      },
      "execution_count": 71,
      "outputs": [
        {
          "output_type": "execute_result",
          "data": {
            "text/plain": [
              "sex                  3\n",
              "age                  0\n",
              "hypertension         0\n",
              "heart_disease        0\n",
              "ever_married         0\n",
              "work_type            0\n",
              "Residence_type       0\n",
              "avg_glucose_level    0\n",
              "bmi                  0\n",
              "smoking_status       0\n",
              "stroke               0\n",
              "dtype: int64"
            ]
          },
          "metadata": {},
          "execution_count": 71
        }
      ]
    },
    {
      "cell_type": "code",
      "source": [
        "#Suppression des lignes manquantes pour la variable sexe \n",
        "stroke=stroke.dropna(axis=0)"
      ],
      "metadata": {
        "id": "_DjlHQQWW6Ry"
      },
      "execution_count": 131,
      "outputs": []
    },
    {
      "cell_type": "code",
      "source": [
        "#Vérification du nombre d'observations\n",
        "stroke.info()\n",
        "#Içi nous voyons que nous sommes passé d'une base de données comportant 40910 observations à 40907 observations = tout est bon"
      ],
      "metadata": {
        "colab": {
          "base_uri": "https://localhost:8080/"
        },
        "id": "eDnML1SxXACg",
        "outputId": "675aa373-0068-4048-ea24-4501d1672f1b"
      },
      "execution_count": 132,
      "outputs": [
        {
          "output_type": "stream",
          "name": "stdout",
          "text": [
            "<class 'pandas.core.frame.DataFrame'>\n",
            "Int64Index: 40907 entries, 0 to 40909\n",
            "Data columns (total 11 columns):\n",
            " #   Column             Non-Null Count  Dtype  \n",
            "---  ------             --------------  -----  \n",
            " 0   sex                40907 non-null  float64\n",
            " 1   age                40907 non-null  float64\n",
            " 2   hypertension       40907 non-null  int64  \n",
            " 3   heart_disease      40907 non-null  int64  \n",
            " 4   ever_married       40907 non-null  int64  \n",
            " 5   work_type          40907 non-null  int64  \n",
            " 6   Residence_type     40907 non-null  int64  \n",
            " 7   avg_glucose_level  40907 non-null  float64\n",
            " 8   bmi                40907 non-null  float64\n",
            " 9   smoking_status     40907 non-null  int64  \n",
            " 10  stroke             40907 non-null  int64  \n",
            "dtypes: float64(4), int64(7)\n",
            "memory usage: 3.7 MB\n"
          ]
        }
      ]
    },
    {
      "cell_type": "code",
      "source": [
        "#Vérification des valeurs manquantes pour les lignes\n",
        "stroke.isna().sum(axis=1)\n",
        "#Pas de valeurs manquantes"
      ],
      "metadata": {
        "colab": {
          "base_uri": "https://localhost:8080/"
        },
        "id": "sGr0LFEtXCzJ",
        "outputId": "32d99fd5-c155-4235-f70c-eb65d253ce74"
      },
      "execution_count": 133,
      "outputs": [
        {
          "output_type": "execute_result",
          "data": {
            "text/plain": [
              "0        0\n",
              "1        0\n",
              "2        0\n",
              "3        0\n",
              "4        0\n",
              "        ..\n",
              "40905    0\n",
              "40906    0\n",
              "40907    0\n",
              "40908    0\n",
              "40909    0\n",
              "Length: 40907, dtype: int64"
            ]
          },
          "metadata": {},
          "execution_count": 133
        }
      ]
    },
    {
      "cell_type": "markdown",
      "metadata": {
        "id": "VPFENPX7ilMz"
      },
      "source": [
        "Nous pouvons donc revenir à la transformation de la nature de notre variable sexe et la transformer en integer"
      ]
    },
    {
      "cell_type": "code",
      "execution_count": 134,
      "metadata": {
        "id": "7kGXd0BuixNh"
      },
      "outputs": [],
      "source": [
        "#Transformation de la variable sexe\n",
        "stroke['sex'] = stroke['sex'].astype(int)"
      ]
    },
    {
      "cell_type": "code",
      "execution_count": 135,
      "metadata": {
        "colab": {
          "base_uri": "https://localhost:8080/"
        },
        "id": "kMYrRPSqi8Rh",
        "outputId": "a3d93580-85c4-4ad7-edb2-008ebf1b19cc"
      },
      "outputs": [
        {
          "output_type": "stream",
          "name": "stdout",
          "text": [
            "<class 'pandas.core.frame.DataFrame'>\n",
            "Int64Index: 40907 entries, 0 to 40909\n",
            "Data columns (total 11 columns):\n",
            " #   Column             Non-Null Count  Dtype  \n",
            "---  ------             --------------  -----  \n",
            " 0   sex                40907 non-null  int64  \n",
            " 1   age                40907 non-null  float64\n",
            " 2   hypertension       40907 non-null  int64  \n",
            " 3   heart_disease      40907 non-null  int64  \n",
            " 4   ever_married       40907 non-null  int64  \n",
            " 5   work_type          40907 non-null  int64  \n",
            " 6   Residence_type     40907 non-null  int64  \n",
            " 7   avg_glucose_level  40907 non-null  float64\n",
            " 8   bmi                40907 non-null  float64\n",
            " 9   smoking_status     40907 non-null  int64  \n",
            " 10  stroke             40907 non-null  int64  \n",
            "dtypes: float64(3), int64(8)\n",
            "memory usage: 3.7 MB\n"
          ]
        }
      ],
      "source": [
        "#Revérification\n",
        "stroke.info()"
      ]
    },
    {
      "cell_type": "markdown",
      "source": [
        "### **b. Points atypiques**"
      ],
      "metadata": {
        "id": "t8zghKmhT4FM"
      }
    },
    {
      "cell_type": "code",
      "execution_count": 136,
      "metadata": {
        "colab": {
          "base_uri": "https://localhost:8080/",
          "height": 368
        },
        "id": "jtqTo-bGlPnH",
        "outputId": "e1da697d-5074-4622-bdb9-b0cf1d87e750"
      },
      "outputs": [
        {
          "output_type": "execute_result",
          "data": {
            "text/plain": [
              "<matplotlib.axes._subplots.AxesSubplot at 0x7fe2be9c4460>"
            ]
          },
          "metadata": {},
          "execution_count": 136
        },
        {
          "output_type": "display_data",
          "data": {
            "text/plain": [
              "<Figure size 720x864 with 3 Axes>"
            ],
            "image/png": "[encoded data removed]"
          },
          "metadata": {}
        }
      ],
      "source": [
        "#Boîtes à moustaches\n",
        "plt.figure(1,figsize=(10,12))\n",
        "plt.gcf().subplots_adjust(left = 0.1, bottom = 0.2, right = 1.8,top = 0.9, wspace = 0.5, hspace = 0)\n",
        "plt.subplot(1,3,1)\n",
        "sns.boxplot(x=\"age\",data=stroke)\n",
        "plt.subplot(1,3,2)\n",
        "sns.boxplot(x=\"bmi\",data=stroke)\n",
        "plt.subplot(1,3,3)\n",
        "sns.boxplot(x=\"avg_glucose_level\",data=stroke)"
      ]
    },
    {
      "cell_type": "code",
      "execution_count": 137,
      "metadata": {
        "id": "yPK6Kt05Nhnc"
      },
      "outputs": [],
      "source": [
        "#Test ESD repris de François\n",
        "def grubbs_stat(y):\n",
        "    std_dev = np.std(y)\n",
        "    avg_y = np.mean(y)\n",
        "    abs_val_minus_avg = abs(y - avg_y)\n",
        "    max_of_deviations = max(abs_val_minus_avg)\n",
        "    max_ind = np.argmax(abs_val_minus_avg)\n",
        "    Gcal = max_of_deviations/ std_dev\n",
        "    #print(\"Grubbs Statistics Value : {}\".format(Gcal))\n",
        "    return Gcal, max_ind\n",
        "\n",
        "def calculate_critical_value(size, alpha):\n",
        "    t_dist = stats.t.ppf(1 - alpha / (2 * size), size - 2)\n",
        "    numerator = (size - 1) * np.sqrt(np.square(t_dist))\n",
        "    denominator = np.sqrt(size) * np.sqrt(size - 2 + np.square(t_dist))\n",
        "    critical_value = numerator / denominator\n",
        "    #print(\"Grubbs Critical Value: {}\".format(critical_value))\n",
        "    return critical_value"
      ]
    },
    {
      "cell_type": "code",
      "execution_count": 138,
      "metadata": {
        "colab": {
          "base_uri": "https://localhost:8080/"
        },
        "id": "Zji4p0cHLihE",
        "outputId": "4bb94baa-5f12-4dea-9751-5d8aeb8f88c5"
      },
      "outputs": [
        {
          "output_type": "stream",
          "name": "stdout",
          "text": [
            "Nombre de valeurs atypiques : 5\n",
            "Valeur atypique seuil : 92.0\n",
            "92.0 is an outlier. G > G-critical: 9.0480 > 4.8513 \n",
            "\n",
            "\u001b[1mVeuillez augmenter le nombre d'outlier max par sécurité\u001b[0m\n"
          ]
        },
        {
          "output_type": "execute_result",
          "data": {
            "text/plain": [
              "92.0"
            ]
          },
          "metadata": {},
          "execution_count": 138
        }
      ],
      "source": [
        "#Test ESD repris de François\n",
        "def ESD_Test(input_series, alpha, max_outliers):\n",
        "    input_series = np.array(input_series) #Transformation de la colonne en array\n",
        "    \n",
        "    #Initialisation des valeurs\n",
        "    nb_outliers=0\n",
        "    valeur_atypique_seuil=\"-\"\n",
        "\n",
        "    \n",
        "    #Itération pour chaque valeur de la série\n",
        "    for iterations in range(max_outliers):\n",
        "        Gcritical = calculate_critical_value(len(input_series), alpha)\n",
        "        Gstat, max_index = grubbs_stat(input_series)\n",
        "        \n",
        "        #Récupère les valeurs de la dernière itération où la valeur est considéré comme atypique\n",
        "        if round(Gstat,4)>round(Gcritical,4) :\n",
        "            nb_outliers+=1\n",
        "            valeur_atypique_seuil=input_series[max_index]\n",
        "            last_Gstat=Gstat\n",
        "            last_Gcritical=Gcritical\n",
        "        \n",
        "        #Supprime la valeur de l'itération pour tester sur d'autres\n",
        "        input_series = np.delete(input_series, max_index)\n",
        "   \n",
        "    #Print des résultats du test\n",
        "    print(\"Nombre de valeurs atypiques : \"+ str(nb_outliers))\n",
        "    print(\"Valeur atypique seuil : {}\".format(valeur_atypique_seuil))\n",
        "    \n",
        "    if nb_outliers>0 :\n",
        "        print('{} is an outlier. G > G-critical: {:.4f} > {:.4f} \\n'.format(valeur_atypique_seuil, last_Gstat, last_Gcritical))\n",
        "    \n",
        "    if (max_outliers*0.8)<nb_outliers : #Marge de sécurité\n",
        "        print('\\033[1m' + \"Veuillez augmenter le nombre d'outlier max par sécurité\"+'\\033[0m')\n",
        "    \n",
        "    return valeur_atypique_seuil\n",
        "\n",
        "ESD_Test(stroke_quant['bmi'] , 0.05, 5)"
      ]
    },
    {
      "cell_type": "code",
      "execution_count": 139,
      "metadata": {
        "id": "4YSfcTAKVKhN"
      },
      "outputs": [],
      "source": [
        "#Suppresson des valeurs supérieurs à 92\n",
        "stroke_fin = stroke[stroke.bmi<92]"
      ]
    },
    {
      "cell_type": "markdown",
      "source": [
        "### **c. Dichotomisation**"
      ],
      "metadata": {
        "id": "To0GdjuHT8rG"
      }
    },
    {
      "cell_type": "code",
      "source": [
        "dummies = pd.get_dummies(stroke_fin['work_type'])\n",
        "dummies.columns = ['work_type_0', 'work_type_1','work_type_2','work_type_3','work_type_4']\n",
        "print(dummies)"
      ],
      "metadata": {
        "colab": {
          "base_uri": "https://localhost:8080/"
        },
        "id": "THcDtveWonsV",
        "outputId": "36ca99ef-653a-48ba-b3c5-618a3ade56e6"
      },
      "execution_count": 140,
      "outputs": [
        {
          "output_type": "stream",
          "name": "stdout",
          "text": [
            "       work_type_0  work_type_1  work_type_2  work_type_3  work_type_4\n",
            "0                0            0            0            0            1\n",
            "1                0            0            0            0            1\n",
            "2                0            0            0            0            1\n",
            "3                0            0            0            1            0\n",
            "4                0            0            0            0            1\n",
            "...            ...          ...          ...          ...          ...\n",
            "40905            0            0            0            0            1\n",
            "40906            0            0            0            0            1\n",
            "40907            0            0            1            0            0\n",
            "40908            0            0            0            1            0\n",
            "40909            0            0            0            0            1\n",
            "\n",
            "[40902 rows x 5 columns]\n"
          ]
        }
      ]
    },
    {
      "cell_type": "code",
      "source": [
        "#Suppression de la variable \"work_type\" dans une nouvelle base de données\n",
        "stroke_fin2 = stroke_fin.drop(columns = [\"work_type\"])"
      ],
      "metadata": {
        "id": "UgFpq2WVNnnC"
      },
      "execution_count": 141,
      "outputs": []
    },
    {
      "cell_type": "code",
      "source": [
        "#Concaténisation de la nouvelle base avec base \"dummies\"\n",
        "stroke_fin = pd.concat([dummies,stroke_fin2], axis = 1)"
      ],
      "metadata": {
        "id": "rUPAVMPoNnnC"
      },
      "execution_count": 142,
      "outputs": []
    },
    {
      "cell_type": "code",
      "source": [
        "#Transformation des variables \"work_types\" en integer\n",
        "stroke_fin['work_type_0'] = stroke_fin['work_type_0'].astype(int)\n",
        "stroke_fin['work_type_1'] = stroke_fin['work_type_1'].astype(int)\n",
        "stroke_fin['work_type_2'] = stroke_fin['work_type_2'].astype(int)\n",
        "stroke_fin['work_type_3'] = stroke_fin['work_type_3'].astype(int)\n",
        "stroke_fin['work_type_4'] = stroke_fin['work_type_4'].astype(int)"
      ],
      "metadata": {
        "id": "l_Wyu95HNnnC"
      },
      "execution_count": 143,
      "outputs": []
    },
    {
      "cell_type": "markdown",
      "source": [
        "## *2. Sélection des variables*"
      ],
      "metadata": {
        "id": "kFO7wSktTaNm"
      }
    },
    {
      "cell_type": "markdown",
      "source": [
        "### **a. Tests entre Stroke et les variables explicatives**"
      ],
      "metadata": {
        "id": "wiw7Zs4UUCMz"
      }
    },
    {
      "cell_type": "markdown",
      "source": [
        "##### a.1 Variables quantitatives"
      ],
      "metadata": {
        "id": "3ez1NSfwenc9"
      }
    },
    {
      "cell_type": "code",
      "source": [
        "#Création d'une base contenant que les variables quantitatives\n",
        "var_quant = stroke_fin.iloc[:,[6,11,12]]\n",
        "#Première boucle permettant de tester la normalité des variables explicatives\n",
        "for col in var_quant:\n",
        "    stat, p = kstest(stroke_fin[col], 'norm')\n",
        "    print(col + ': p-value =', p)\n",
        "    #On print la colonne associé à la variable quantitative ainsi que sa p-value associée"
      ],
      "metadata": {
        "colab": {
          "base_uri": "https://localhost:8080/"
        },
        "id": "Gofnjs3pewaW",
        "outputId": "36e27cd3-ee14-4d1f-f3e3-c0d749abdd2a"
      },
      "execution_count": 144,
      "outputs": [
        {
          "output_type": "stream",
          "name": "stdout",
          "text": [
            "age: p-value = 0.0\n",
            "avg_glucose_level: p-value = 0.0\n",
            "bmi: p-value = 0.0\n"
          ]
        }
      ]
    },
    {
      "cell_type": "markdown",
      "source": [
        "Les 3 variables ne suivent pas une loi normale (p-value <0,05) donc nous devons passer directement au test de mann-Witney"
      ],
      "metadata": {
        "id": "iFksfIRCgsv0"
      }
    },
    {
      "cell_type": "markdown",
      "source": [
        "Nous utilisons le test de Man Witney ou communément wilcoxon pour tester les différences de moyennes entre les échantillons des variables quantitatives qui ont des valeurs 1 pour la variable Stroke, et qui ont des valeurs 0 pour la variable Stroke. "
      ],
      "metadata": {
        "id": "iR8C6Ho2g8zr"
      }
    },
    {
      "cell_type": "code",
      "source": [
        "#  Mann-Whitney entre stroke et age\n",
        "stat, p = mannwhitneyu(stroke_fin['stroke'], stroke_fin['age'])\n",
        "\n",
        "# interprétation des résultats\n",
        "if p < 0.05:\n",
        "    print(\"Les données sont significativement différentes entre age et stroke car la p-value est de : \",p)\n",
        "else:\n",
        "    print(\"Les données ne sont pas significativement différentes entre age et stroke car la p-value est de : \",p)\n",
        "\n",
        "#  Mann-Whitney entre stroke et bmi\n",
        "stat, p = mannwhitneyu(stroke_fin['stroke'], stroke_fin['bmi'])\n",
        "\n",
        "# interprétation des résultats\n",
        "if p < 0.05:\n",
        "    print(\"Les données sont significativement différentes entre bmi et stroke car la p-value est de : \",p)\n",
        "else:\n",
        "    print(\"Les données ne sont pas significativement différentes entre bmi et stroke car la p-value est de : \",p)\n",
        "\n",
        "\n",
        "#  Mann-Whitney entre stroke et avg_glucose_level\n",
        "stat, p = mannwhitneyu(stroke_fin['stroke'], stroke_fin['avg_glucose_level'])\n",
        "\n",
        "# interprétation des résultats\n",
        "if p < 0.05:\n",
        "    print(\"Les données sont significativement différentes entre avg_glucose_level et stroke car la p-value est de : \",p)\n",
        "else:\n",
        "    print(\"Les données ne sont pas significativement différentes entre avg_glucose_level et stroke car la p-value est de : \",p)\n"
      ],
      "metadata": {
        "colab": {
          "base_uri": "https://localhost:8080/"
        },
        "id": "vP7GtUk8iJeO",
        "outputId": "c9dcbff5-cf23-47f7-9e88-e3ad8667b71a"
      },
      "execution_count": 145,
      "outputs": [
        {
          "output_type": "stream",
          "name": "stdout",
          "text": [
            "Les données sont significativement différentes entre age et stroke car la p-value est de :  0.0\n",
            "Les données sont significativement différentes entre bmi et stroke car la p-value est de :  0.0\n",
            "Les données sont significativement différentes entre avg_glucose_level et stroke car la p-value est de :  0.0\n"
          ]
        }
      ]
    },
    {
      "cell_type": "markdown",
      "source": [
        "Nous conservons les 3 variables car elles permettent d'expliquer si stroke égales à 0 ou 1 pour stroke"
      ],
      "metadata": {
        "id": "PuBu1ID-k8Ri"
      }
    },
    {
      "cell_type": "code",
      "source": [
        "stroke_moy=stroke_fin[['age','bmi','avg_glucose_level','stroke']]"
      ],
      "metadata": {
        "id": "0ymXNz7Rkew8"
      },
      "execution_count": 146,
      "outputs": []
    },
    {
      "cell_type": "code",
      "source": [
        "stroke_moy.groupby('stroke').mean()"
      ],
      "metadata": {
        "colab": {
          "base_uri": "https://localhost:8080/",
          "height": 143
        },
        "id": "yKROSO8shITY",
        "outputId": "eece264f-514b-4139-eaa0-0a891bf59f9c"
      },
      "execution_count": 147,
      "outputs": [
        {
          "output_type": "execute_result",
          "data": {
            "text/plain": [
              "              age        bmi  avg_glucose_level\n",
              "stroke                                         \n",
              "0       50.061344  30.266217         106.810075\n",
              "1       52.592669  30.531584         137.351777"
            ],
            "text/html": [
              "\n",
              "  <div id=\"df-bb1c9423-feca-41f6-bd4c-471dd625afa9\">\n",
              "    <div class=\"colab-df-container\">\n",
              "      <div>\n",
              "<style scoped>\n",
              "    .dataframe tbody tr th:only-of-type {\n",
              "        vertical-align: middle;\n",
              "    }\n",
              "\n",
              "    .dataframe tbody tr th {\n",
              "        vertical-align: top;\n",
              "    }\n",
              "\n",
              "    .dataframe thead th {\n",
              "        text-align: right;\n",
              "    }\n",
              "</style>\n",
              "<table border=\"1\" class=\"dataframe\">\n",
              "  <thead>\n",
              "    <tr style=\"text-align: right;\">\n",
              "      <th></th>\n",
              "      <th>age</th>\n",
              "      <th>bmi</th>\n",
              "      <th>avg_glucose_level</th>\n",
              "    </tr>\n",
              "    <tr>\n",
              "      <th>stroke</th>\n",
              "      <th></th>\n",
              "      <th></th>\n",
              "      <th></th>\n",
              "    </tr>\n",
              "  </thead>\n",
              "  <tbody>\n",
              "    <tr>\n",
              "      <th>0</th>\n",
              "      <td>50.061344</td>\n",
              "      <td>30.266217</td>\n",
              "      <td>106.810075</td>\n",
              "    </tr>\n",
              "    <tr>\n",
              "      <th>1</th>\n",
              "      <td>52.592669</td>\n",
              "      <td>30.531584</td>\n",
              "      <td>137.351777</td>\n",
              "    </tr>\n",
              "  </tbody>\n",
              "</table>\n",
              "</div>\n",
              "      <button class=\"colab-df-convert\" onclick=\"convertToInteractive('df-bb1c9423-feca-41f6-bd4c-471dd625afa9')\"\n",
              "              title=\"Convert this dataframe to an interactive table.\"\n",
              "              style=\"display:none;\">\n",
              "        \n",
              "  <svg xmlns=\"http://www.w3.org/2000/svg\" height=\"24px\"viewBox=\"0 0 24 24\"\n",
              "       width=\"24px\">\n",
              "    <path d=\"M0 0h24v24H0V0z\" fill=\"none\"/>\n",
              "    <path d=\"M18.56 5.44l.94 2.06.94-2.06 2.06-.94-2.06-.94-.94-2.06-.94 2.06-2.06.94zm-11 1L8.5 8.5l.94-2.06 2.06-.94-2.06-.94L8.5 2.5l-.94 2.06-2.06.94zm10 10l.94 2.06.94-2.06 2.06-.94-2.06-.94-.94-2.06-.94 2.06-2.06.94z\"/><path d=\"M17.41 7.96l-1.37-1.37c-.4-.4-.92-.59-1.43-.59-.52 0-1.04.2-1.43.59L10.3 9.45l-7.72 7.72c-.78.78-.78 2.05 0 2.83L4 21.41c.39.39.9.59 1.41.59.51 0 1.02-.2 1.41-.59l7.78-7.78 2.81-2.81c.8-.78.8-2.07 0-2.86zM5.41 20L4 18.59l7.72-7.72 1.47 1.35L5.41 20z\"/>\n",
              "  </svg>\n",
              "      </button>\n",
              "      \n",
              "  <style>\n",
              "    .colab-df-container {\n",
              "      display:flex;\n",
              "      flex-wrap:wrap;\n",
              "      gap: 12px;\n",
              "    }\n",
              "\n",
              "    .colab-df-convert {\n",
              "      background-color: #E8F0FE;\n",
              "      border: none;\n",
              "      border-radius: 50%;\n",
              "      cursor: pointer;\n",
              "      display: none;\n",
              "      fill: #1967D2;\n",
              "      height: 32px;\n",
              "      padding: 0 0 0 0;\n",
              "      width: 32px;\n",
              "    }\n",
              "\n",
              "    .colab-df-convert:hover {\n",
              "      background-color: #E2EBFA;\n",
              "      box-shadow: 0px 1px 2px rgba(60, 64, 67, 0.3), 0px 1px 3px 1px rgba(60, 64, 67, 0.15);\n",
              "      fill: #174EA6;\n",
              "    }\n",
              "\n",
              "    [theme=dark] .colab-df-convert {\n",
              "      background-color: #3B4455;\n",
              "      fill: #D2E3FC;\n",
              "    }\n",
              "\n",
              "    [theme=dark] .colab-df-convert:hover {\n",
              "      background-color: #434B5C;\n",
              "      box-shadow: 0px 1px 3px 1px rgba(0, 0, 0, 0.15);\n",
              "      filter: drop-shadow(0px 1px 2px rgba(0, 0, 0, 0.3));\n",
              "      fill: #FFFFFF;\n",
              "    }\n",
              "  </style>\n",
              "\n",
              "      <script>\n",
              "        const buttonEl =\n",
              "          document.querySelector('#df-bb1c9423-feca-41f6-bd4c-471dd625afa9 button.colab-df-convert');\n",
              "        buttonEl.style.display =\n",
              "          google.colab.kernel.accessAllowed ? 'block' : 'none';\n",
              "\n",
              "        async function convertToInteractive(key) {\n",
              "          const element = document.querySelector('#df-bb1c9423-feca-41f6-bd4c-471dd625afa9');\n",
              "          const dataTable =\n",
              "            await google.colab.kernel.invokeFunction('convertToInteractive',\n",
              "                                                     [key], {});\n",
              "          if (!dataTable) return;\n",
              "\n",
              "          const docLinkHtml = 'Like what you see? Visit the ' +\n",
              "            '<a target=\"_blank\" href=https://colab.research.google.com/notebooks/data_table.ipynb>data table notebook</a>'\n",
              "            + ' to learn more about interactive tables.';\n",
              "          element.innerHTML = '';\n",
              "          dataTable['output_type'] = 'display_data';\n",
              "          await google.colab.output.renderOutput(dataTable, element);\n",
              "          const docLink = document.createElement('div');\n",
              "          docLink.innerHTML = docLinkHtml;\n",
              "          element.appendChild(docLink);\n",
              "        }\n",
              "      </script>\n",
              "    </div>\n",
              "  </div>\n",
              "  "
            ]
          },
          "metadata": {},
          "execution_count": 147
        }
      ]
    },
    {
      "cell_type": "markdown",
      "source": [
        "##### a.2 Variables qualitatives"
      ],
      "metadata": {
        "id": "A9PSrjehrLPM"
      }
    },
    {
      "cell_type": "code",
      "source": [
        "#On créé une base avec seulement nos variable qualitative \n",
        "var_qual=stroke_fin.drop(columns=['age', 'bmi', 'avg_glucose_level'])"
      ],
      "metadata": {
        "id": "B9lG6yoUglZ5"
      },
      "execution_count": 148,
      "outputs": []
    },
    {
      "cell_type": "code",
      "source": [
        "# On créé une variable stroke contenant notre variable à expliquer stroke\n",
        "stroke = var_qual['stroke']\n",
        "\n",
        "x_qual = [col for col in var_qual.columns if col != 'stroke']\n",
        "\n",
        "# Boucle pour effectuer le test de chi2 pour chaque variable explicative avec stroke\n",
        "for col in x_qual:\n",
        "    crosstab = pd.crosstab(var_qual[col], stroke)\n",
        "    chi2, p, dof, expected = chi2_contingency(crosstab)\n",
        "    print(f'Variable explicative: {col}, p-value: {p}')\n",
        "\n",
        "#boucle inspiré de : https://www.geeksforgeeks.org/loop-or-iterate-over-all-or-certain-columns-of-a-dataframe-in-python-pandas/"
      ],
      "metadata": {
        "colab": {
          "base_uri": "https://localhost:8080/"
        },
        "id": "KoWtNJOdrOPT",
        "outputId": "a672eab7-67b3-4418-f25d-ebf3f74e66c1"
      },
      "execution_count": 149,
      "outputs": [
        {
          "output_type": "stream",
          "name": "stdout",
          "text": [
            "Variable explicative: work_type_0, p-value: 7.198606249761875e-20\n",
            "Variable explicative: work_type_1, p-value: 2.2406663355621277e-96\n",
            "Variable explicative: work_type_2, p-value: 3.92382415482602e-16\n",
            "Variable explicative: work_type_3, p-value: 1.5342146692844105e-113\n",
            "Variable explicative: work_type_4, p-value: 1.8969635893230332e-17\n",
            "Variable explicative: sex, p-value: 6.967002827259985e-112\n",
            "Variable explicative: hypertension, p-value: 0.0\n",
            "Variable explicative: heart_disease, p-value: 0.0\n",
            "Variable explicative: ever_married, p-value: 1.2292704288078677e-295\n",
            "Variable explicative: Residence_type, p-value: 0.019175089892001108\n",
            "Variable explicative: smoking_status, p-value: 2.1935300930155916e-43\n"
          ]
        }
      ]
    },
    {
      "cell_type": "code",
      "source": [
        "chi2"
      ],
      "metadata": {
        "colab": {
          "base_uri": "https://localhost:8080/"
        },
        "id": "6nXR48vCYwYA",
        "outputId": "c0d04cc4-b769-425e-b165-27a25ce37a7f"
      },
      "execution_count": 150,
      "outputs": [
        {
          "output_type": "execute_result",
          "data": {
            "text/plain": [
              "190.7384562639693"
            ]
          },
          "metadata": {},
          "execution_count": 150
        }
      ]
    },
    {
      "cell_type": "markdown",
      "source": [
        "Toutes les p-values sont inférieures à 0,05. Cela signifie qu'au seuil de 5%, les variables explicatives qualitatives de notre modèle sont statstiquement associé à la variable stroke. "
      ],
      "metadata": {
        "id": "RxhYFt9ohxfQ"
      }
    },
    {
      "cell_type": "markdown",
      "source": [
        "### **b. Tests entre les variables explicatives**"
      ],
      "metadata": {
        "id": "MATcgx0uUHlm"
      }
    },
    {
      "cell_type": "markdown",
      "source": [
        "##### a. variables qualitatives "
      ],
      "metadata": {
        "id": "NTd3j3DbjYFE"
      }
    },
    {
      "cell_type": "markdown",
      "source": [
        "Nous effectuons le test de chi2 entre chaque paire de "
      ],
      "metadata": {
        "id": "_QVTnGLLjcPv"
      }
    },
    {
      "cell_type": "code",
      "source": [
        "import itertools\n",
        "import scipy.stats as stats\n",
        "import pandas as pd\n",
        "\n",
        "#On continue avec notre variable à expliqué contenu dans stroke et les variables qualitatives dans var_quali\n",
        "\n",
        "\n",
        "# Boucle pour effectuer le test de chi2 pour chaque paire de variables explicatives\n",
        "for col1, col2 in itertools.combinations(x_qual, 2):\n",
        "    crosstab = pd.crosstab(var_qual[col1], var_qual[col2])\n",
        "    chi2, p, dof, expected = stats.chi2_contingency(crosstab)\n",
        "    print(f'Variables explicatives: {col1} et {col2}, p-value: {p}')"
      ],
      "metadata": {
        "colab": {
          "base_uri": "https://localhost:8080/"
        },
        "id": "MCjmuOr-knzZ",
        "outputId": "a58d9bb9-98bd-4b4a-aed5-58b48a9a57b3"
      },
      "execution_count": 151,
      "outputs": [
        {
          "output_type": "stream",
          "name": "stdout",
          "text": [
            "Variables explicatives: work_type_0 et work_type_1, p-value: 0.6739423079178253\n",
            "Variables explicatives: work_type_0 et work_type_2, p-value: 0.0004427530147830216\n",
            "Variables explicatives: work_type_0 et work_type_3, p-value: 1.207003798606848e-06\n",
            "Variables explicatives: work_type_0 et work_type_4, p-value: 3.832168651721589e-32\n",
            "Variables explicatives: work_type_0 et sex, p-value: 1.0\n",
            "Variables explicatives: work_type_0 et hypertension, p-value: 2.872465646456578e-06\n",
            "Variables explicatives: work_type_0 et heart_disease, p-value: 0.0007536553573246182\n",
            "Variables explicatives: work_type_0 et ever_married, p-value: 6.477743388327706e-86\n",
            "Variables explicatives: work_type_0 et Residence_type, p-value: 2.523909530844964e-07\n",
            "Variables explicatives: work_type_0 et smoking_status, p-value: 4.966110115801135e-19\n",
            "Variables explicatives: work_type_1 et work_type_2, p-value: 1.8455694252472815e-16\n",
            "Variables explicatives: work_type_1 et work_type_3, p-value: 3.4944210056296587e-29\n",
            "Variables explicatives: work_type_1 et work_type_4, p-value: 2.7532524791341144e-159\n",
            "Variables explicatives: work_type_1 et sex, p-value: 0.020364469475291976\n",
            "Variables explicatives: work_type_1 et hypertension, p-value: 2.6736640821838153e-27\n",
            "Variables explicatives: work_type_1 et heart_disease, p-value: 2.481601506117876e-15\n",
            "Variables explicatives: work_type_1 et ever_married, p-value: 0.0\n",
            "Variables explicatives: work_type_1 et Residence_type, p-value: 0.3536862223482804\n",
            "Variables explicatives: work_type_1 et smoking_status, p-value: 8.525369556529448e-31\n",
            "Variables explicatives: work_type_2 et work_type_3, p-value: 0.0\n",
            "Variables explicatives: work_type_2 et work_type_4, p-value: 0.0\n",
            "Variables explicatives: work_type_2 et sex, p-value: 0.04924297802566927\n",
            "Variables explicatives: work_type_2 et hypertension, p-value: 0.4405482231650486\n",
            "Variables explicatives: work_type_2 et heart_disease, p-value: 0.851668612901169\n",
            "Variables explicatives: work_type_2 et ever_married, p-value: 0.18777357019926094\n",
            "Variables explicatives: work_type_2 et Residence_type, p-value: 0.6622743670103292\n",
            "Variables explicatives: work_type_2 et smoking_status, p-value: 0.8634349551074936\n",
            "Variables explicatives: work_type_3 et work_type_4, p-value: 0.0\n",
            "Variables explicatives: work_type_3 et sex, p-value: 0.0068635675470641215\n",
            "Variables explicatives: work_type_3 et hypertension, p-value: 1.8318087712309014e-126\n",
            "Variables explicatives: work_type_3 et heart_disease, p-value: 8.85367703593247e-28\n",
            "Variables explicatives: work_type_3 et ever_married, p-value: 1.3615598447948682e-86\n",
            "Variables explicatives: work_type_3 et Residence_type, p-value: 0.6233127164643903\n",
            "Variables explicatives: work_type_3 et smoking_status, p-value: 3.4697630620540196e-13\n",
            "Variables explicatives: work_type_4 et sex, p-value: 0.1518772555614547\n",
            "Variables explicatives: work_type_4 et hypertension, p-value: 1.9084311321988094e-67\n",
            "Variables explicatives: work_type_4 et heart_disease, p-value: 4.167929060771922e-31\n",
            "Variables explicatives: work_type_4 et ever_married, p-value: 2.3373245663086382e-11\n",
            "Variables explicatives: work_type_4 et Residence_type, p-value: 0.14837956745572464\n",
            "Variables explicatives: work_type_4 et smoking_status, p-value: 2.809375826336477e-22\n",
            "Variables explicatives: sex et hypertension, p-value: 3.820527538279073e-15\n",
            "Variables explicatives: sex et heart_disease, p-value: 4.8126655487032513e-20\n",
            "Variables explicatives: sex et ever_married, p-value: 1.7045003013085716e-07\n",
            "Variables explicatives: sex et Residence_type, p-value: 0.4758853116666477\n",
            "Variables explicatives: sex et smoking_status, p-value: 1.3524184751254293e-08\n",
            "Variables explicatives: hypertension et heart_disease, p-value: 7.690265471334695e-59\n",
            "Variables explicatives: hypertension et ever_married, p-value: 1.0816666009518211e-11\n",
            "Variables explicatives: hypertension et Residence_type, p-value: 0.6398185187956656\n",
            "Variables explicatives: hypertension et smoking_status, p-value: 0.0004041530621317507\n",
            "Variables explicatives: heart_disease et ever_married, p-value: 1.9278505143650946e-47\n",
            "Variables explicatives: heart_disease et Residence_type, p-value: 0.009042298544865253\n",
            "Variables explicatives: heart_disease et smoking_status, p-value: 1.8177197275403148e-169\n",
            "Variables explicatives: ever_married et Residence_type, p-value: 7.941927671561498e-31\n",
            "Variables explicatives: ever_married et smoking_status, p-value: 3.665778831952742e-170\n",
            "Variables explicatives: Residence_type et smoking_status, p-value: 0.00041303455749124393\n"
          ]
        }
      ]
    },
    {
      "cell_type": "markdown",
      "source": [
        "Pour étudier des liens de dépendance entre nos variables qualitatives nous appliquerons le\n",
        "test du Khi-2. Les variables dont la valeur est inférieure à 0,05 poseront des problèmes de\n",
        "dépendance dans notre analyse. Ici nous voyons que pratiquement toutes les variables entre-elles sont dépendantes. Malheureusement pour ne pas perdre trop d'information nous ne préférons pas en supprimer. "
      ],
      "metadata": {
        "id": "iHDTj8hsmtXU"
      }
    },
    {
      "cell_type": "markdown",
      "source": [
        "##### b. variables quantitatives "
      ],
      "metadata": {
        "id": "-vYmAZ_VnBht"
      }
    },
    {
      "cell_type": "code",
      "source": [
        "#Matrice de corrélation\n",
        "mat_quant = var_quant.corr(method='spearman')\n",
        "mat_quant.style.background_gradient(cmap='coolwarm')"
      ],
      "metadata": {
        "colab": {
          "base_uri": "https://localhost:8080/",
          "height": 143
        },
        "id": "21G5w-1pnKYR",
        "outputId": "1491d230-4e4c-4555-d5ec-a8f0182f803a"
      },
      "execution_count": 152,
      "outputs": [
        {
          "output_type": "execute_result",
          "data": {
            "text/plain": [
              "<pandas.io.formats.style.Styler at 0x7fe2c660a130>"
            ],
            "text/html": [
              "<style type=\"text/css\">\n",
              "#T_d2216_row0_col0, #T_d2216_row1_col1, #T_d2216_row2_col2 {\n",
              "  background-color: #b40426;\n",
              "  color: #f1f1f1;\n",
              "}\n",
              "#T_d2216_row0_col1, #T_d2216_row0_col2, #T_d2216_row2_col0 {\n",
              "  background-color: #3b4cc0;\n",
              "  color: #f1f1f1;\n",
              "}\n",
              "#T_d2216_row1_col0 {\n",
              "  background-color: #445acc;\n",
              "  color: #f1f1f1;\n",
              "}\n",
              "#T_d2216_row1_col2 {\n",
              "  background-color: #7ea1fa;\n",
              "  color: #f1f1f1;\n",
              "}\n",
              "#T_d2216_row2_col1 {\n",
              "  background-color: #7597f6;\n",
              "  color: #f1f1f1;\n",
              "}\n",
              "</style>\n",
              "<table id=\"T_d2216_\" class=\"dataframe\">\n",
              "  <thead>\n",
              "    <tr>\n",
              "      <th class=\"blank level0\" >&nbsp;</th>\n",
              "      <th class=\"col_heading level0 col0\" >age</th>\n",
              "      <th class=\"col_heading level0 col1\" >avg_glucose_level</th>\n",
              "      <th class=\"col_heading level0 col2\" >bmi</th>\n",
              "    </tr>\n",
              "  </thead>\n",
              "  <tbody>\n",
              "    <tr>\n",
              "      <th id=\"T_d2216_level0_row0\" class=\"row_heading level0 row0\" >age</th>\n",
              "      <td id=\"T_d2216_row0_col0\" class=\"data row0 col0\" >1.000000</td>\n",
              "      <td id=\"T_d2216_row0_col1\" class=\"data row0 col1\" >0.024393</td>\n",
              "      <td id=\"T_d2216_row0_col2\" class=\"data row0 col2\" >-0.008433</td>\n",
              "    </tr>\n",
              "    <tr>\n",
              "      <th id=\"T_d2216_level0_row1\" class=\"row_heading level0 row1\" >avg_glucose_level</th>\n",
              "      <td id=\"T_d2216_row1_col0\" class=\"data row1 col0\" >0.024393</td>\n",
              "      <td id=\"T_d2216_row1_col1\" class=\"data row1 col1\" >1.000000</td>\n",
              "      <td id=\"T_d2216_row1_col2\" class=\"data row1 col2\" >0.201478</td>\n",
              "    </tr>\n",
              "    <tr>\n",
              "      <th id=\"T_d2216_level0_row2\" class=\"row_heading level0 row2\" >bmi</th>\n",
              "      <td id=\"T_d2216_row2_col0\" class=\"data row2 col0\" >-0.008433</td>\n",
              "      <td id=\"T_d2216_row2_col1\" class=\"data row2 col1\" >0.201478</td>\n",
              "      <td id=\"T_d2216_row2_col2\" class=\"data row2 col2\" >1.000000</td>\n",
              "    </tr>\n",
              "  </tbody>\n",
              "</table>\n"
            ]
          },
          "metadata": {},
          "execution_count": 152
        }
      ]
    },
    {
      "cell_type": "markdown",
      "source": [
        "Nous avons affiché la matrice des corrélations de spearman en ne gardant que les corrélations supérieures à 0,6 qui auraient posé problèmes dans notre analyse. Nous voyons qu'il n'y en a aucunes, donc nous conservons l'entièreté de nos variables explicatives"
      ],
      "metadata": {
        "id": "QhWkfcwunduC"
      }
    },
    {
      "cell_type": "markdown",
      "source": [
        "## *3. Standardisation*"
      ],
      "metadata": {
        "id": "2mbmeyxCTgdI"
      }
    },
    {
      "cell_type": "markdown",
      "source": [
        "Premièrement nous découpons notre jeu en train et test avant de passer à la standardisation. De plus comme les effectifs sont équilibrés entre les 0 et 1 de stroke nous n'avons pas besoin de faire de l'échantillonnage. "
      ],
      "metadata": {
        "id": "bRHZWOQLTUSM"
      }
    },
    {
      "cell_type": "code",
      "source": [
        "#On découpe le dataset en train et test\n",
        "X_train , X_test, y_train, y_test = train_test_split(stroke_fin.iloc[:,:14],  \n",
        "                                                    stroke_fin['stroke'], \n",
        "                                                    test_size=0.2 ,\n",
        "                                                    shuffle=True ,\n",
        "                                                    random_state=0\n",
        "                                                   )\n"
      ],
      "metadata": {
        "id": "eSmZtd20oJBp"
      },
      "execution_count": 153,
      "outputs": []
    },
    {
      "cell_type": "code",
      "source": [
        "#Nous devrons concaténer ces bases donc nous devons utiliser un reset_index\n",
        "X_train.reset_index(inplace=True,drop=True)\n",
        "X_test.reset_index(inplace=True,drop=True)\n"
      ],
      "metadata": {
        "id": "O56gRan9patO"
      },
      "execution_count": 154,
      "outputs": []
    },
    {
      "cell_type": "code",
      "source": [
        "y_train.value_counts()"
      ],
      "metadata": {
        "colab": {
          "base_uri": "https://localhost:8080/"
        },
        "id": "64eOhcCk7lwx",
        "outputId": "5527c419-3009-4f23-b256-eda96f7d5fdc"
      },
      "execution_count": 155,
      "outputs": [
        {
          "output_type": "execute_result",
          "data": {
            "text/plain": [
              "1    16397\n",
              "0    16324\n",
              "Name: stroke, dtype: int64"
            ]
          },
          "metadata": {},
          "execution_count": 155
        }
      ]
    },
    {
      "cell_type": "code",
      "source": [
        "y_test.value_counts()"
      ],
      "metadata": {
        "colab": {
          "base_uri": "https://localhost:8080/"
        },
        "id": "1wmlG-Kr7rZd",
        "outputId": "664d1892-b166-4969-8e1d-97c4ba2546e6"
      },
      "execution_count": 156,
      "outputs": [
        {
          "output_type": "execute_result",
          "data": {
            "text/plain": [
              "0    4118\n",
              "1    4063\n",
              "Name: stroke, dtype: int64"
            ]
          },
          "metadata": {},
          "execution_count": 156
        }
      ]
    },
    {
      "cell_type": "code",
      "source": [
        "X_train=pd.DataFrame(X_train)"
      ],
      "metadata": {
        "id": "OyuALmEbpkPp"
      },
      "execution_count": 157,
      "outputs": []
    },
    {
      "cell_type": "code",
      "execution_count": 158,
      "metadata": {
        "colab": {
          "base_uri": "https://localhost:8080/"
        },
        "id": "rCOlDcbxRiQz",
        "outputId": "fe91c410-23e9-494c-896a-ecc62e0bb730"
      },
      "outputs": [
        {
          "output_type": "execute_result",
          "data": {
            "text/plain": [
              "StandardScaler()"
            ]
          },
          "metadata": {},
          "execution_count": 158
        }
      ],
      "source": [
        "#On utilise StandarScaler uniquement sur le X_train pour calculer les moyennes!\n",
        "scaler = StandardScaler()\n",
        "scaler.fit(X_train.iloc[:,[6,11,12]])"
      ]
    },
    {
      "cell_type": "code",
      "source": [
        "X_train.iloc[:,[6,11,12]]"
      ],
      "metadata": {
        "colab": {
          "base_uri": "https://localhost:8080/",
          "height": 424
        },
        "id": "DK6azGbJzKQQ",
        "outputId": "f9978462-88cf-4714-c906-86dcc7e1a44e"
      },
      "execution_count": 159,
      "outputs": [
        {
          "output_type": "execute_result",
          "data": {
            "text/plain": [
              "        age  avg_glucose_level   bmi\n",
              "0      49.0             118.03  35.5\n",
              "1      45.0             112.09  24.7\n",
              "2      31.0              74.98  21.4\n",
              "3      68.0             100.80  45.9\n",
              "4      34.0              78.92  27.7\n",
              "...     ...                ...   ...\n",
              "32716  51.0              55.25  20.4\n",
              "32717  39.0              67.76  26.0\n",
              "32718  53.0             200.49  34.6\n",
              "32719  73.0              64.45  26.7\n",
              "32720  44.0             113.01  24.0\n",
              "\n",
              "[32721 rows x 3 columns]"
            ],
            "text/html": [
              "\n",
              "  <div id=\"df-9d9d9ca7-85ff-49a6-8548-54f4ab9f784f\">\n",
              "    <div class=\"colab-df-container\">\n",
              "      <div>\n",
              "<style scoped>\n",
              "    .dataframe tbody tr th:only-of-type {\n",
              "        vertical-align: middle;\n",
              "    }\n",
              "\n",
              "    .dataframe tbody tr th {\n",
              "        vertical-align: top;\n",
              "    }\n",
              "\n",
              "    .dataframe thead th {\n",
              "        text-align: right;\n",
              "    }\n",
              "</style>\n",
              "<table border=\"1\" class=\"dataframe\">\n",
              "  <thead>\n",
              "    <tr style=\"text-align: right;\">\n",
              "      <th></th>\n",
              "      <th>age</th>\n",
              "      <th>avg_glucose_level</th>\n",
              "      <th>bmi</th>\n",
              "    </tr>\n",
              "  </thead>\n",
              "  <tbody>\n",
              "    <tr>\n",
              "      <th>0</th>\n",
              "      <td>49.0</td>\n",
              "      <td>118.03</td>\n",
              "      <td>35.5</td>\n",
              "    </tr>\n",
              "    <tr>\n",
              "      <th>1</th>\n",
              "      <td>45.0</td>\n",
              "      <td>112.09</td>\n",
              "      <td>24.7</td>\n",
              "    </tr>\n",
              "    <tr>\n",
              "      <th>2</th>\n",
              "      <td>31.0</td>\n",
              "      <td>74.98</td>\n",
              "      <td>21.4</td>\n",
              "    </tr>\n",
              "    <tr>\n",
              "      <th>3</th>\n",
              "      <td>68.0</td>\n",
              "      <td>100.80</td>\n",
              "      <td>45.9</td>\n",
              "    </tr>\n",
              "    <tr>\n",
              "      <th>4</th>\n",
              "      <td>34.0</td>\n",
              "      <td>78.92</td>\n",
              "      <td>27.7</td>\n",
              "    </tr>\n",
              "    <tr>\n",
              "      <th>...</th>\n",
              "      <td>...</td>\n",
              "      <td>...</td>\n",
              "      <td>...</td>\n",
              "    </tr>\n",
              "    <tr>\n",
              "      <th>32716</th>\n",
              "      <td>51.0</td>\n",
              "      <td>55.25</td>\n",
              "      <td>20.4</td>\n",
              "    </tr>\n",
              "    <tr>\n",
              "      <th>32717</th>\n",
              "      <td>39.0</td>\n",
              "      <td>67.76</td>\n",
              "      <td>26.0</td>\n",
              "    </tr>\n",
              "    <tr>\n",
              "      <th>32718</th>\n",
              "      <td>53.0</td>\n",
              "      <td>200.49</td>\n",
              "      <td>34.6</td>\n",
              "    </tr>\n",
              "    <tr>\n",
              "      <th>32719</th>\n",
              "      <td>73.0</td>\n",
              "      <td>64.45</td>\n",
              "      <td>26.7</td>\n",
              "    </tr>\n",
              "    <tr>\n",
              "      <th>32720</th>\n",
              "      <td>44.0</td>\n",
              "      <td>113.01</td>\n",
              "      <td>24.0</td>\n",
              "    </tr>\n",
              "  </tbody>\n",
              "</table>\n",
              "<p>32721 rows × 3 columns</p>\n",
              "</div>\n",
              "      <button class=\"colab-df-convert\" onclick=\"convertToInteractive('df-9d9d9ca7-85ff-49a6-8548-54f4ab9f784f')\"\n",
              "              title=\"Convert this dataframe to an interactive table.\"\n",
              "              style=\"display:none;\">\n",
              "        \n",
              "  <svg xmlns=\"http://www.w3.org/2000/svg\" height=\"24px\"viewBox=\"0 0 24 24\"\n",
              "       width=\"24px\">\n",
              "    <path d=\"M0 0h24v24H0V0z\" fill=\"none\"/>\n",
              "    <path d=\"M18.56 5.44l.94 2.06.94-2.06 2.06-.94-2.06-.94-.94-2.06-.94 2.06-2.06.94zm-11 1L8.5 8.5l.94-2.06 2.06-.94-2.06-.94L8.5 2.5l-.94 2.06-2.06.94zm10 10l.94 2.06.94-2.06 2.06-.94-2.06-.94-.94-2.06-.94 2.06-2.06.94z\"/><path d=\"M17.41 7.96l-1.37-1.37c-.4-.4-.92-.59-1.43-.59-.52 0-1.04.2-1.43.59L10.3 9.45l-7.72 7.72c-.78.78-.78 2.05 0 2.83L4 21.41c.39.39.9.59 1.41.59.51 0 1.02-.2 1.41-.59l7.78-7.78 2.81-2.81c.8-.78.8-2.07 0-2.86zM5.41 20L4 18.59l7.72-7.72 1.47 1.35L5.41 20z\"/>\n",
              "  </svg>\n",
              "      </button>\n",
              "      \n",
              "  <style>\n",
              "    .colab-df-container {\n",
              "      display:flex;\n",
              "      flex-wrap:wrap;\n",
              "      gap: 12px;\n",
              "    }\n",
              "\n",
              "    .colab-df-convert {\n",
              "      background-color: #E8F0FE;\n",
              "      border: none;\n",
              "      border-radius: 50%;\n",
              "      cursor: pointer;\n",
              "      display: none;\n",
              "      fill: #1967D2;\n",
              "      height: 32px;\n",
              "      padding: 0 0 0 0;\n",
              "      width: 32px;\n",
              "    }\n",
              "\n",
              "    .colab-df-convert:hover {\n",
              "      background-color: #E2EBFA;\n",
              "      box-shadow: 0px 1px 2px rgba(60, 64, 67, 0.3), 0px 1px 3px 1px rgba(60, 64, 67, 0.15);\n",
              "      fill: #174EA6;\n",
              "    }\n",
              "\n",
              "    [theme=dark] .colab-df-convert {\n",
              "      background-color: #3B4455;\n",
              "      fill: #D2E3FC;\n",
              "    }\n",
              "\n",
              "    [theme=dark] .colab-df-convert:hover {\n",
              "      background-color: #434B5C;\n",
              "      box-shadow: 0px 1px 3px 1px rgba(0, 0, 0, 0.15);\n",
              "      filter: drop-shadow(0px 1px 2px rgba(0, 0, 0, 0.3));\n",
              "      fill: #FFFFFF;\n",
              "    }\n",
              "  </style>\n",
              "\n",
              "      <script>\n",
              "        const buttonEl =\n",
              "          document.querySelector('#df-9d9d9ca7-85ff-49a6-8548-54f4ab9f784f button.colab-df-convert');\n",
              "        buttonEl.style.display =\n",
              "          google.colab.kernel.accessAllowed ? 'block' : 'none';\n",
              "\n",
              "        async function convertToInteractive(key) {\n",
              "          const element = document.querySelector('#df-9d9d9ca7-85ff-49a6-8548-54f4ab9f784f');\n",
              "          const dataTable =\n",
              "            await google.colab.kernel.invokeFunction('convertToInteractive',\n",
              "                                                     [key], {});\n",
              "          if (!dataTable) return;\n",
              "\n",
              "          const docLinkHtml = 'Like what you see? Visit the ' +\n",
              "            '<a target=\"_blank\" href=https://colab.research.google.com/notebooks/data_table.ipynb>data table notebook</a>'\n",
              "            + ' to learn more about interactive tables.';\n",
              "          element.innerHTML = '';\n",
              "          dataTable['output_type'] = 'display_data';\n",
              "          await google.colab.output.renderOutput(dataTable, element);\n",
              "          const docLink = document.createElement('div');\n",
              "          docLink.innerHTML = docLinkHtml;\n",
              "          element.appendChild(docLink);\n",
              "        }\n",
              "      </script>\n",
              "    </div>\n",
              "  </div>\n",
              "  "
            ]
          },
          "metadata": {},
          "execution_count": 159
        }
      ]
    },
    {
      "cell_type": "code",
      "execution_count": 160,
      "metadata": {
        "id": "8oR7QkcnRoL9"
      },
      "outputs": [],
      "source": [
        "#On transforme X_train et X_test avec le calcul de moyenne et std du X_train\n",
        "X_train_sc = scaler.transform(X_train.iloc[:,[6,11,12]])\n",
        "X_test_sc = scaler.transform(X_test.iloc[:,[6,11,12]])"
      ]
    },
    {
      "cell_type": "markdown",
      "source": [
        "On a standardisé uniquement nos variables quantitatives, ainsi nous devons ajouter nos variables qualitative à la base X_test_sc et X_train_sc"
      ],
      "metadata": {
        "id": "Jt4opyjcb8nz"
      }
    },
    {
      "cell_type": "code",
      "source": [
        "var_quali_test = X_test.drop(columns = [\"age\",\"avg_glucose_level\",\"bmi\"])\n",
        "var_quali_train = X_train.drop(columns = [\"age\",\"avg_glucose_level\",\"bmi\"])"
      ],
      "metadata": {
        "id": "N0sSXBwEcEvC"
      },
      "execution_count": 161,
      "outputs": []
    },
    {
      "cell_type": "code",
      "source": [
        "X_train_sc=pd.DataFrame(X_train_sc,columns=[\"age\",\"avg_glucose_level\",\"bmi\"])\n",
        "X_test_sc=pd.DataFrame(X_test_sc,columns=[\"age\",\"avg_glucose_level\",\"bmi\"])"
      ],
      "metadata": {
        "id": "14bbOXvEeDoN"
      },
      "execution_count": 162,
      "outputs": []
    },
    {
      "cell_type": "code",
      "source": [
        "X_train_sc2 = pd.concat([var_quali_train,X_train_sc], axis = 1)\n",
        "X_test_sc2 = pd.concat([var_quali_test,X_test_sc], axis = 1)"
      ],
      "metadata": {
        "id": "K_R_XO2Xcitd"
      },
      "execution_count": 163,
      "outputs": []
    },
    {
      "cell_type": "code",
      "source": [
        "X_test_sc2\n",
        "X_train_sc2\n"
      ],
      "metadata": {
        "colab": {
          "base_uri": "https://localhost:8080/",
          "height": 488
        },
        "id": "8hxp2C2DfAId",
        "outputId": "3edf1b8d-24d1-4b95-88e6-9a88b24ea2aa"
      },
      "execution_count": 164,
      "outputs": [
        {
          "output_type": "execute_result",
          "data": {
            "text/plain": [
              "       work_type_0  work_type_1  work_type_2  work_type_3  work_type_4  sex  \\\n",
              "0                0            0            0            1            0    0   \n",
              "1                0            0            0            0            1    1   \n",
              "2                0            0            0            0            1    0   \n",
              "3                0            0            0            0            1    0   \n",
              "4                0            0            1            0            0    0   \n",
              "...            ...          ...          ...          ...          ...  ...   \n",
              "32716            0            0            0            0            1    0   \n",
              "32717            0            0            0            0            1    0   \n",
              "32718            0            0            1            0            0    1   \n",
              "32719            0            0            0            0            1    1   \n",
              "32720            0            0            0            0            1    1   \n",
              "\n",
              "       hypertension  heart_disease  ever_married  Residence_type  \\\n",
              "0                 0              0             1               0   \n",
              "1                 0              0             1               1   \n",
              "2                 0              0             0               0   \n",
              "3                 0              0             0               0   \n",
              "4                 1              0             1               1   \n",
              "...             ...            ...           ...             ...   \n",
              "32716             0              0             0               1   \n",
              "32717             0              0             0               0   \n",
              "32718             0              0             1               0   \n",
              "32719             0              0             1               1   \n",
              "32720             1              0             0               1   \n",
              "\n",
              "       smoking_status       age  avg_glucose_level       bmi  \n",
              "0                   1 -0.105837          -0.071585  0.755465  \n",
              "1                   1 -0.290502          -0.174785 -0.837988  \n",
              "2                   0 -0.936827          -0.819521 -1.324876  \n",
              "3                   0  0.771319          -0.370933  2.289901  \n",
              "4                   1 -0.798329          -0.751069 -0.395362  \n",
              "...               ...       ...                ...       ...  \n",
              "32716               0 -0.013505          -1.162303 -1.472418  \n",
              "32717               0 -0.567498          -0.944959 -0.646183  \n",
              "32718               1  0.078827           1.361046  0.622677  \n",
              "32719               0  1.002149          -1.002465 -0.542904  \n",
              "32720               0 -0.336668          -0.158801 -0.941267  \n",
              "\n",
              "[32721 rows x 14 columns]"
            ],
            "text/html": [
              "\n",
              "  <div id=\"df-e86e6828-2824-434d-b8e0-bb1096e1dbae\">\n",
              "    <div class=\"colab-df-container\">\n",
              "      <div>\n",
              "<style scoped>\n",
              "    .dataframe tbody tr th:only-of-type {\n",
              "        vertical-align: middle;\n",
              "    }\n",
              "\n",
              "    .dataframe tbody tr th {\n",
              "        vertical-align: top;\n",
              "    }\n",
              "\n",
              "    .dataframe thead th {\n",
              "        text-align: right;\n",
              "    }\n",
              "</style>\n",
              "<table border=\"1\" class=\"dataframe\">\n",
              "  <thead>\n",
              "    <tr style=\"text-align: right;\">\n",
              "      <th></th>\n",
              "      <th>work_type_0</th>\n",
              "      <th>work_type_1</th>\n",
              "      <th>work_type_2</th>\n",
              "      <th>work_type_3</th>\n",
              "      <th>work_type_4</th>\n",
              "      <th>sex</th>\n",
              "      <th>hypertension</th>\n",
              "      <th>heart_disease</th>\n",
              "      <th>ever_married</th>\n",
              "      <th>Residence_type</th>\n",
              "      <th>smoking_status</th>\n",
              "      <th>age</th>\n",
              "      <th>avg_glucose_level</th>\n",
              "      <th>bmi</th>\n",
              "    </tr>\n",
              "  </thead>\n",
              "  <tbody>\n",
              "    <tr>\n",
              "      <th>0</th>\n",
              "      <td>0</td>\n",
              "      <td>0</td>\n",
              "      <td>0</td>\n",
              "      <td>1</td>\n",
              "      <td>0</td>\n",
              "      <td>0</td>\n",
              "      <td>0</td>\n",
              "      <td>0</td>\n",
              "      <td>1</td>\n",
              "      <td>0</td>\n",
              "      <td>1</td>\n",
              "      <td>-0.105837</td>\n",
              "      <td>-0.071585</td>\n",
              "      <td>0.755465</td>\n",
              "    </tr>\n",
              "    <tr>\n",
              "      <th>1</th>\n",
              "      <td>0</td>\n",
              "      <td>0</td>\n",
              "      <td>0</td>\n",
              "      <td>0</td>\n",
              "      <td>1</td>\n",
              "      <td>1</td>\n",
              "      <td>0</td>\n",
              "      <td>0</td>\n",
              "      <td>1</td>\n",
              "      <td>1</td>\n",
              "      <td>1</td>\n",
              "      <td>-0.290502</td>\n",
              "      <td>-0.174785</td>\n",
              "      <td>-0.837988</td>\n",
              "    </tr>\n",
              "    <tr>\n",
              "      <th>2</th>\n",
              "      <td>0</td>\n",
              "      <td>0</td>\n",
              "      <td>0</td>\n",
              "      <td>0</td>\n",
              "      <td>1</td>\n",
              "      <td>0</td>\n",
              "      <td>0</td>\n",
              "      <td>0</td>\n",
              "      <td>0</td>\n",
              "      <td>0</td>\n",
              "      <td>0</td>\n",
              "      <td>-0.936827</td>\n",
              "      <td>-0.819521</td>\n",
              "      <td>-1.324876</td>\n",
              "    </tr>\n",
              "    <tr>\n",
              "      <th>3</th>\n",
              "      <td>0</td>\n",
              "      <td>0</td>\n",
              "      <td>0</td>\n",
              "      <td>0</td>\n",
              "      <td>1</td>\n",
              "      <td>0</td>\n",
              "      <td>0</td>\n",
              "      <td>0</td>\n",
              "      <td>0</td>\n",
              "      <td>0</td>\n",
              "      <td>0</td>\n",
              "      <td>0.771319</td>\n",
              "      <td>-0.370933</td>\n",
              "      <td>2.289901</td>\n",
              "    </tr>\n",
              "    <tr>\n",
              "      <th>4</th>\n",
              "      <td>0</td>\n",
              "      <td>0</td>\n",
              "      <td>1</td>\n",
              "      <td>0</td>\n",
              "      <td>0</td>\n",
              "      <td>0</td>\n",
              "      <td>1</td>\n",
              "      <td>0</td>\n",
              "      <td>1</td>\n",
              "      <td>1</td>\n",
              "      <td>1</td>\n",
              "      <td>-0.798329</td>\n",
              "      <td>-0.751069</td>\n",
              "      <td>-0.395362</td>\n",
              "    </tr>\n",
              "    <tr>\n",
              "      <th>...</th>\n",
              "      <td>...</td>\n",
              "      <td>...</td>\n",
              "      <td>...</td>\n",
              "      <td>...</td>\n",
              "      <td>...</td>\n",
              "      <td>...</td>\n",
              "      <td>...</td>\n",
              "      <td>...</td>\n",
              "      <td>...</td>\n",
              "      <td>...</td>\n",
              "      <td>...</td>\n",
              "      <td>...</td>\n",
              "      <td>...</td>\n",
              "      <td>...</td>\n",
              "    </tr>\n",
              "    <tr>\n",
              "      <th>32716</th>\n",
              "      <td>0</td>\n",
              "      <td>0</td>\n",
              "      <td>0</td>\n",
              "      <td>0</td>\n",
              "      <td>1</td>\n",
              "      <td>0</td>\n",
              "      <td>0</td>\n",
              "      <td>0</td>\n",
              "      <td>0</td>\n",
              "      <td>1</td>\n",
              "      <td>0</td>\n",
              "      <td>-0.013505</td>\n",
              "      <td>-1.162303</td>\n",
              "      <td>-1.472418</td>\n",
              "    </tr>\n",
              "    <tr>\n",
              "      <th>32717</th>\n",
              "      <td>0</td>\n",
              "      <td>0</td>\n",
              "      <td>0</td>\n",
              "      <td>0</td>\n",
              "      <td>1</td>\n",
              "      <td>0</td>\n",
              "      <td>0</td>\n",
              "      <td>0</td>\n",
              "      <td>0</td>\n",
              "      <td>0</td>\n",
              "      <td>0</td>\n",
              "      <td>-0.567498</td>\n",
              "      <td>-0.944959</td>\n",
              "      <td>-0.646183</td>\n",
              "    </tr>\n",
              "    <tr>\n",
              "      <th>32718</th>\n",
              "      <td>0</td>\n",
              "      <td>0</td>\n",
              "      <td>1</td>\n",
              "      <td>0</td>\n",
              "      <td>0</td>\n",
              "      <td>1</td>\n",
              "      <td>0</td>\n",
              "      <td>0</td>\n",
              "      <td>1</td>\n",
              "      <td>0</td>\n",
              "      <td>1</td>\n",
              "      <td>0.078827</td>\n",
              "      <td>1.361046</td>\n",
              "      <td>0.622677</td>\n",
              "    </tr>\n",
              "    <tr>\n",
              "      <th>32719</th>\n",
              "      <td>0</td>\n",
              "      <td>0</td>\n",
              "      <td>0</td>\n",
              "      <td>0</td>\n",
              "      <td>1</td>\n",
              "      <td>1</td>\n",
              "      <td>0</td>\n",
              "      <td>0</td>\n",
              "      <td>1</td>\n",
              "      <td>1</td>\n",
              "      <td>0</td>\n",
              "      <td>1.002149</td>\n",
              "      <td>-1.002465</td>\n",
              "      <td>-0.542904</td>\n",
              "    </tr>\n",
              "    <tr>\n",
              "      <th>32720</th>\n",
              "      <td>0</td>\n",
              "      <td>0</td>\n",
              "      <td>0</td>\n",
              "      <td>0</td>\n",
              "      <td>1</td>\n",
              "      <td>1</td>\n",
              "      <td>1</td>\n",
              "      <td>0</td>\n",
              "      <td>0</td>\n",
              "      <td>1</td>\n",
              "      <td>0</td>\n",
              "      <td>-0.336668</td>\n",
              "      <td>-0.158801</td>\n",
              "      <td>-0.941267</td>\n",
              "    </tr>\n",
              "  </tbody>\n",
              "</table>\n",
              "<p>32721 rows × 14 columns</p>\n",
              "</div>\n",
              "      <button class=\"colab-df-convert\" onclick=\"convertToInteractive('df-e86e6828-2824-434d-b8e0-bb1096e1dbae')\"\n",
              "              title=\"Convert this dataframe to an interactive table.\"\n",
              "              style=\"display:none;\">\n",
              "        \n",
              "  <svg xmlns=\"http://www.w3.org/2000/svg\" height=\"24px\"viewBox=\"0 0 24 24\"\n",
              "       width=\"24px\">\n",
              "    <path d=\"M0 0h24v24H0V0z\" fill=\"none\"/>\n",
              "    <path d=\"M18.56 5.44l.94 2.06.94-2.06 2.06-.94-2.06-.94-.94-2.06-.94 2.06-2.06.94zm-11 1L8.5 8.5l.94-2.06 2.06-.94-2.06-.94L8.5 2.5l-.94 2.06-2.06.94zm10 10l.94 2.06.94-2.06 2.06-.94-2.06-.94-.94-2.06-.94 2.06-2.06.94z\"/><path d=\"M17.41 7.96l-1.37-1.37c-.4-.4-.92-.59-1.43-.59-.52 0-1.04.2-1.43.59L10.3 9.45l-7.72 7.72c-.78.78-.78 2.05 0 2.83L4 21.41c.39.39.9.59 1.41.59.51 0 1.02-.2 1.41-.59l7.78-7.78 2.81-2.81c.8-.78.8-2.07 0-2.86zM5.41 20L4 18.59l7.72-7.72 1.47 1.35L5.41 20z\"/>\n",
              "  </svg>\n",
              "      </button>\n",
              "      \n",
              "  <style>\n",
              "    .colab-df-container {\n",
              "      display:flex;\n",
              "      flex-wrap:wrap;\n",
              "      gap: 12px;\n",
              "    }\n",
              "\n",
              "    .colab-df-convert {\n",
              "      background-color: #E8F0FE;\n",
              "      border: none;\n",
              "      border-radius: 50%;\n",
              "      cursor: pointer;\n",
              "      display: none;\n",
              "      fill: #1967D2;\n",
              "      height: 32px;\n",
              "      padding: 0 0 0 0;\n",
              "      width: 32px;\n",
              "    }\n",
              "\n",
              "    .colab-df-convert:hover {\n",
              "      background-color: #E2EBFA;\n",
              "      box-shadow: 0px 1px 2px rgba(60, 64, 67, 0.3), 0px 1px 3px 1px rgba(60, 64, 67, 0.15);\n",
              "      fill: #174EA6;\n",
              "    }\n",
              "\n",
              "    [theme=dark] .colab-df-convert {\n",
              "      background-color: #3B4455;\n",
              "      fill: #D2E3FC;\n",
              "    }\n",
              "\n",
              "    [theme=dark] .colab-df-convert:hover {\n",
              "      background-color: #434B5C;\n",
              "      box-shadow: 0px 1px 3px 1px rgba(0, 0, 0, 0.15);\n",
              "      filter: drop-shadow(0px 1px 2px rgba(0, 0, 0, 0.3));\n",
              "      fill: #FFFFFF;\n",
              "    }\n",
              "  </style>\n",
              "\n",
              "      <script>\n",
              "        const buttonEl =\n",
              "          document.querySelector('#df-e86e6828-2824-434d-b8e0-bb1096e1dbae button.colab-df-convert');\n",
              "        buttonEl.style.display =\n",
              "          google.colab.kernel.accessAllowed ? 'block' : 'none';\n",
              "\n",
              "        async function convertToInteractive(key) {\n",
              "          const element = document.querySelector('#df-e86e6828-2824-434d-b8e0-bb1096e1dbae');\n",
              "          const dataTable =\n",
              "            await google.colab.kernel.invokeFunction('convertToInteractive',\n",
              "                                                     [key], {});\n",
              "          if (!dataTable) return;\n",
              "\n",
              "          const docLinkHtml = 'Like what you see? Visit the ' +\n",
              "            '<a target=\"_blank\" href=https://colab.research.google.com/notebooks/data_table.ipynb>data table notebook</a>'\n",
              "            + ' to learn more about interactive tables.';\n",
              "          element.innerHTML = '';\n",
              "          dataTable['output_type'] = 'display_data';\n",
              "          await google.colab.output.renderOutput(dataTable, element);\n",
              "          const docLink = document.createElement('div');\n",
              "          docLink.innerHTML = docLinkHtml;\n",
              "          element.appendChild(docLink);\n",
              "        }\n",
              "      </script>\n",
              "    </div>\n",
              "  </div>\n",
              "  "
            ]
          },
          "metadata": {},
          "execution_count": 164
        }
      ]
    },
    {
      "cell_type": "markdown",
      "source": [
        "# **III. MODÉLISATION**"
      ],
      "metadata": {
        "id": "7w6r9rlSTC4F"
      }
    },
    {
      "cell_type": "markdown",
      "source": [
        "## *1. SVM, régression logistique et SGDClassifier*"
      ],
      "metadata": {
        "id": "q12LR53mwwFF"
      }
    },
    {
      "cell_type": "code",
      "source": [
        "X_train_sc=pd.DataFrame(X_train_sc2)\n",
        "X_test_sc=pd.DataFrame(X_test_sc2)"
      ],
      "metadata": {
        "id": "h3quAgYhvDuy"
      },
      "execution_count": 165,
      "outputs": []
    },
    {
      "cell_type": "code",
      "source": [
        "#Regression logistique\n",
        "lgr = LogisticRegression(random_state=0)\n",
        "lgr.fit(X_train_sc, y_train)\n",
        "y_pred_lgr=lgr.predict(X_test_sc)\n",
        "\n",
        "#Linear SVM\n",
        "l_SVC = LinearSVC(random_state=0, max_iter=2000)\n",
        "l_SVC.fit(X_train_sc, y_train)\n",
        "y_pred_lsvc=l_SVC.predict(X_test_sc)\n",
        "\n",
        "#la différence entre linear svc et svc avec kernel linear c'est qu'ils n'utilisent pas la même fonction de perte \n",
        "#SVM avec kernel lineaire\n",
        "svc = SVC(kernel='linear',random_state=0)\n",
        "svc.fit(X_train_sc,y_train)\n",
        "y_pred_svc=svc.predict(X_test_sc)\n",
        "\n",
        "#SVM avec kernel rbf\n",
        "svc_rbf = SVC(kernel='rbf',random_state=0)\n",
        "svc_rbf.fit(X_train_sc,y_train)\n",
        "y_pred_svc_rbf=svc_rbf.predict(X_test_sc)\n",
        "\n",
        "#SVM avec kernel poly\n",
        "svc_poly = SVC(kernel='poly',random_state=0)\n",
        "svc_poly.fit(X_train_sc,y_train)\n",
        "y_pred_svc_poly=svc_poly.predict(X_test_sc)\n",
        "\n",
        "#SGD classifier\n",
        "sgdc_svm = SGDClassifier(loss='hinge' ,random_state=0)\n",
        "sgdc_svm.fit(X_train_sc, y_train)\n",
        "y_pred_sgd=sgdc_svm.predict(X_test_sc)\n"
      ],
      "metadata": {
        "id": "4z2o1gyKu786"
      },
      "execution_count": 170,
      "outputs": []
    },
    {
      "cell_type": "code",
      "execution_count": 172,
      "metadata": {
        "colab": {
          "base_uri": "https://localhost:8080/"
        },
        "id": "6ulttyB7w25G",
        "outputId": "f2bee557-70ea-4a1c-dc13-10ea1700d142"
      },
      "outputs": [
        {
          "output_type": "stream",
          "name": "stdout",
          "text": [
            "recall_lgr  0.6391828698006399\n",
            "recall_lsvc  0.6305685454097957\n",
            "recall_svc  0.4646812699975388\n",
            "recall_svc_rbf  0.7843957666748708\n",
            "recall_svc_poly  0.7587989170563623\n",
            "recall_sgd  0.6138321437361556\n",
            "f1 lgr  0.6720144908785095\n",
            "f1 lsvc  0.6695413563308507\n",
            "f1 svc  0.5770171149144254\n",
            "f1 svc rbf  0.7798849871528204\n",
            "f1 svc poly 0.7545276554087127\n",
            "f1 sgd  0.6618017778957145\n",
            "auc lgr 0.6897954174161043\n",
            "auc lsvc 0.6904663999511338\n",
            "auc svc 0.6603396636534561\n",
            "auc svc rbf 0.780128917820194\n",
            "auc svc poly 0.7548244221027318\n",
            "auc sgd 0.6879262709938669\n",
            "matrice lgr [[3049 1069]\n",
            " [1466 2597]]\n",
            "matrice lsvc [[3090 1028]\n",
            " [1501 2562]]\n",
            "matrice svc [[3525  593]\n",
            " [2175 1888]]\n",
            "matrice svc rbf [[3195  923]\n",
            " [ 876 3187]]\n",
            "matrice svc poly [[3092 1026]\n",
            " [ 980 3083]]\n",
            "conf matrice sgd [[3138  980]\n",
            " [1569 2494]]\n"
          ]
        }
      ],
      "source": [
        "##### Recall #####\n",
        "recall_lgr = recall_score(y_test, y_pred_lgr)\n",
        "print(\"recall_lgr \",recall_lgr)\n",
        "\n",
        "recall_l_SVC = recall_score(y_test, y_pred_lsvc)\n",
        "print(\"recall_lsvc \",recall_l_SVC)\n",
        "\n",
        "recall_svc = recall_score(y_test, y_pred_svc)\n",
        "print(\"recall_svc \",recall_svc)\n",
        "\n",
        "recall_svc_rbf = recall_score(y_test, y_pred_svc_rbf)\n",
        "print(\"recall_svc_rbf \",recall_svc_rbf)\n",
        "\n",
        "recall_svc_poly = recall_score(y_test, y_pred_svc_poly)\n",
        "print(\"recall_svc_poly \",recall_svc_poly)\n",
        "\n",
        "recall_sgd = recall_score(y_test, y_pred_sgd)\n",
        "print(\"recall_sgd \",recall_sgd)\n",
        "\n",
        "##### F1_Score ######\n",
        "f1_lgr = f1_score(y_test, y_pred_lgr)\n",
        "print(\"f1 lgr \",f1_lgr)\n",
        "\n",
        "f1_l_SVC = f1_score(y_test, y_pred_lsvc)\n",
        "print(\"f1 lsvc \",f1_l_SVC)\n",
        "\n",
        "f1_svc = f1_score(y_test, y_pred_svc)\n",
        "print(\"f1 svc \",f1_svc)\n",
        "\n",
        "f1_svc_rbf = f1_score(y_test, y_pred_svc_rbf)\n",
        "print(\"f1 svc rbf \",f1_svc_rbf)\n",
        "\n",
        "f1_svc_poly = f1_score(y_test, y_pred_svc_poly)\n",
        "print(\"f1 svc poly\",f1_svc_poly)\n",
        "\n",
        "f1_sgd = f1_score(y_test, y_pred_sgd)\n",
        "print(\"f1 sgd \",f1_sgd)\n",
        "\n",
        "#### AUC score ####\n",
        "auc_lgr = roc_auc_score(y_test, y_pred_lgr)\n",
        "print(\"auc lgr\",auc_lgr)\n",
        "\n",
        "auc_l_SVC = roc_auc_score(y_test, y_pred_lsvc)\n",
        "print(\"auc lsvc\",auc_l_SVC)\n",
        "\n",
        "auc_svc = roc_auc_score(y_test, y_pred_svc)\n",
        "print(\"auc svc\",auc_svc)\n",
        "\n",
        "auc_svc_rbf = roc_auc_score(y_test, y_pred_svc_rbf)\n",
        "print(\"auc svc rbf\",auc_svc_rbf)\n",
        "\n",
        "auc_svc_poly = roc_auc_score(y_test, y_pred_svc_poly)\n",
        "print(\"auc svc poly\",auc_svc_poly)\n",
        "\n",
        "auc_sgd = roc_auc_score(y_test, y_pred_sgd)\n",
        "print(\"auc sgd\",auc_sgd)\n",
        "\n",
        "#### Matrice de confusion ####\n",
        "conf_matrix_lgr = confusion_matrix(y_test, y_pred_lgr)\n",
        "print(\"matrice lgr\",conf_matrix_lgr)\n",
        "\n",
        "conf_matrix_l_SVC = confusion_matrix(y_test, y_pred_lsvc)\n",
        "print(\"matrice lsvc\",conf_matrix_l_SVC)\n",
        "\n",
        "conf_matrix_svc = confusion_matrix(y_test, y_pred_svc)\n",
        "print(\"matrice svc\",conf_matrix_svc)\n",
        "\n",
        "conf_matrix_svc_rbf = confusion_matrix(y_test, y_pred_svc_rbf)\n",
        "print(\"matrice svc rbf\",conf_matrix_svc_rbf)\n",
        "\n",
        "conf_matrix_svc_poly = confusion_matrix(y_test, y_pred_svc_poly)\n",
        "print(\"matrice svc poly\",conf_matrix_svc_poly)\n",
        "\n",
        "conf_matrix_sgd = confusion_matrix(y_test, y_pred_sgd)\n",
        "print(\"conf matrice sgd\",conf_matrix_sgd)"
      ]
    },
    {
      "cell_type": "code",
      "source": [
        "# Get cross_val_score for each function\n",
        "\n",
        "cvs_lgr = cross_val_score(lgr, X_train_sc, y_train, cv=5, scoring='accuracy')\n",
        "\n",
        "cvs_lsvc = cross_val_score(l_SVC, X_train_sc, y_train, cv=5, scoring='accuracy')\n",
        "\n",
        "cvs_svc = cross_val_score(svc, X_train_sc, y_train, cv=5, scoring='accuracy')\n",
        "\n",
        "cvs_svc_rbf = cross_val_score(svc_rbf, X_train_sc, y_train, cv=5, scoring='accuracy')\n",
        "\n",
        "cvs_svc_poly = cross_val_score(svc_poly, X_train_sc, y_train, cv=5, scoring='accuracy')\n",
        "\n",
        "cvs_sgdc = cross_val_score(sgdc_svm, X_train_sc, y_train, cv=5, scoring='accuracy')"
      ],
      "metadata": {
        "id": "vhqy9EfQ8zaC"
      },
      "execution_count": 173,
      "outputs": []
    },
    {
      "cell_type": "markdown",
      "source": [
        "On effectue une cross validation : avec 5 fold pour estimer la fiabilité des modèles par échantillonage"
      ],
      "metadata": {
        "id": "WgDyYC4mvRpm"
      }
    },
    {
      "cell_type": "code",
      "source": [
        "#Get data output from cross_val_score\n",
        "df_cross = pd.DataFrame(np.transpose(np.c_[cvs_lgr,cvs_lsvc,cvs_sgdc,cvs_svc,cvs_svc_rbf,cvs_svc_poly]), \n",
        "                        columns=['fold1','fold2','fold3','fold4','fold5'])\n",
        "#Adding model label\n",
        "df_cross['model'] = ['lgr','lsvc','sgdc','svc','svc_rbf','svc_poly']"
      ],
      "metadata": {
        "id": "YM0c6YRw-D0n"
      },
      "execution_count": 174,
      "outputs": []
    },
    {
      "cell_type": "code",
      "source": [
        "for row in range(df_cross.shape[0]):\n",
        "    plt.plot( df_cross.iloc[row,0:5] ,label='Line '+str(df_cross.iloc[row,5]))\n",
        "\n",
        "plt.legend()\n",
        "plt.title(\"Evolution de l'accuracy en fonction des folds\")\n",
        "plt.show()"
      ],
      "metadata": {
        "id": "Sqyya0d2-IkA",
        "colab": {
          "base_uri": "https://localhost:8080/",
          "height": 284
        },
        "outputId": "d5fc1d7b-e0da-445c-cb1a-5d8baa93a688"
      },
      "execution_count": 175,
      "outputs": [
        {
          "output_type": "display_data",
          "data": {
            "text/plain": [
              "<Figure size 432x288 with 1 Axes>"
            ],
            "image/png": "[encoded data removed]"
          },
          "metadata": {}
        }
      ]
    },
    {
      "cell_type": "code",
      "source": [
        "df_cross.head(6)"
      ],
      "metadata": {
        "colab": {
          "base_uri": "https://localhost:8080/",
          "height": 238
        },
        "id": "qe0ntO9zwec_",
        "outputId": "706d682e-6260-443b-859e-d264c86fff56"
      },
      "execution_count": 176,
      "outputs": [
        {
          "output_type": "execute_result",
          "data": {
            "text/plain": [
              "      fold1     fold2     fold3     fold4     fold5     model\n",
              "0  0.686325  0.693460  0.689487  0.693765  0.677414       lgr\n",
              "1  0.684950  0.692848  0.688111  0.692237  0.676650      lsvc\n",
              "2  0.663713  0.687347  0.681846  0.687194  0.668551      sgdc\n",
              "3  0.644767  0.656326  0.655410  0.659230  0.652812       svc\n",
              "4  0.777540  0.780257  0.770018  0.779187  0.775061   svc_rbf\n",
              "5  0.757219  0.761308  0.748625  0.755501  0.747555  svc_poly"
            ],
            "text/html": [
              "\n",
              "  <div id=\"df-a960c024-b80d-4aaf-89be-e8a45be93e64\">\n",
              "    <div class=\"colab-df-container\">\n",
              "      <div>\n",
              "<style scoped>\n",
              "    .dataframe tbody tr th:only-of-type {\n",
              "        vertical-align: middle;\n",
              "    }\n",
              "\n",
              "    .dataframe tbody tr th {\n",
              "        vertical-align: top;\n",
              "    }\n",
              "\n",
              "    .dataframe thead th {\n",
              "        text-align: right;\n",
              "    }\n",
              "</style>\n",
              "<table border=\"1\" class=\"dataframe\">\n",
              "  <thead>\n",
              "    <tr style=\"text-align: right;\">\n",
              "      <th></th>\n",
              "      <th>fold1</th>\n",
              "      <th>fold2</th>\n",
              "      <th>fold3</th>\n",
              "      <th>fold4</th>\n",
              "      <th>fold5</th>\n",
              "      <th>model</th>\n",
              "    </tr>\n",
              "  </thead>\n",
              "  <tbody>\n",
              "    <tr>\n",
              "      <th>0</th>\n",
              "      <td>0.686325</td>\n",
              "      <td>0.693460</td>\n",
              "      <td>0.689487</td>\n",
              "      <td>0.693765</td>\n",
              "      <td>0.677414</td>\n",
              "      <td>lgr</td>\n",
              "    </tr>\n",
              "    <tr>\n",
              "      <th>1</th>\n",
              "      <td>0.684950</td>\n",
              "      <td>0.692848</td>\n",
              "      <td>0.688111</td>\n",
              "      <td>0.692237</td>\n",
              "      <td>0.676650</td>\n",
              "      <td>lsvc</td>\n",
              "    </tr>\n",
              "    <tr>\n",
              "      <th>2</th>\n",
              "      <td>0.663713</td>\n",
              "      <td>0.687347</td>\n",
              "      <td>0.681846</td>\n",
              "      <td>0.687194</td>\n",
              "      <td>0.668551</td>\n",
              "      <td>sgdc</td>\n",
              "    </tr>\n",
              "    <tr>\n",
              "      <th>3</th>\n",
              "      <td>0.644767</td>\n",
              "      <td>0.656326</td>\n",
              "      <td>0.655410</td>\n",
              "      <td>0.659230</td>\n",
              "      <td>0.652812</td>\n",
              "      <td>svc</td>\n",
              "    </tr>\n",
              "    <tr>\n",
              "      <th>4</th>\n",
              "      <td>0.777540</td>\n",
              "      <td>0.780257</td>\n",
              "      <td>0.770018</td>\n",
              "      <td>0.779187</td>\n",
              "      <td>0.775061</td>\n",
              "      <td>svc_rbf</td>\n",
              "    </tr>\n",
              "    <tr>\n",
              "      <th>5</th>\n",
              "      <td>0.757219</td>\n",
              "      <td>0.761308</td>\n",
              "      <td>0.748625</td>\n",
              "      <td>0.755501</td>\n",
              "      <td>0.747555</td>\n",
              "      <td>svc_poly</td>\n",
              "    </tr>\n",
              "  </tbody>\n",
              "</table>\n",
              "</div>\n",
              "      <button class=\"colab-df-convert\" onclick=\"convertToInteractive('df-a960c024-b80d-4aaf-89be-e8a45be93e64')\"\n",
              "              title=\"Convert this dataframe to an interactive table.\"\n",
              "              style=\"display:none;\">\n",
              "        \n",
              "  <svg xmlns=\"http://www.w3.org/2000/svg\" height=\"24px\"viewBox=\"0 0 24 24\"\n",
              "       width=\"24px\">\n",
              "    <path d=\"M0 0h24v24H0V0z\" fill=\"none\"/>\n",
              "    <path d=\"M18.56 5.44l.94 2.06.94-2.06 2.06-.94-2.06-.94-.94-2.06-.94 2.06-2.06.94zm-11 1L8.5 8.5l.94-2.06 2.06-.94-2.06-.94L8.5 2.5l-.94 2.06-2.06.94zm10 10l.94 2.06.94-2.06 2.06-.94-2.06-.94-.94-2.06-.94 2.06-2.06.94z\"/><path d=\"M17.41 7.96l-1.37-1.37c-.4-.4-.92-.59-1.43-.59-.52 0-1.04.2-1.43.59L10.3 9.45l-7.72 7.72c-.78.78-.78 2.05 0 2.83L4 21.41c.39.39.9.59 1.41.59.51 0 1.02-.2 1.41-.59l7.78-7.78 2.81-2.81c.8-.78.8-2.07 0-2.86zM5.41 20L4 18.59l7.72-7.72 1.47 1.35L5.41 20z\"/>\n",
              "  </svg>\n",
              "      </button>\n",
              "      \n",
              "  <style>\n",
              "    .colab-df-container {\n",
              "      display:flex;\n",
              "      flex-wrap:wrap;\n",
              "      gap: 12px;\n",
              "    }\n",
              "\n",
              "    .colab-df-convert {\n",
              "      background-color: #E8F0FE;\n",
              "      border: none;\n",
              "      border-radius: 50%;\n",
              "      cursor: pointer;\n",
              "      display: none;\n",
              "      fill: #1967D2;\n",
              "      height: 32px;\n",
              "      padding: 0 0 0 0;\n",
              "      width: 32px;\n",
              "    }\n",
              "\n",
              "    .colab-df-convert:hover {\n",
              "      background-color: #E2EBFA;\n",
              "      box-shadow: 0px 1px 2px rgba(60, 64, 67, 0.3), 0px 1px 3px 1px rgba(60, 64, 67, 0.15);\n",
              "      fill: #174EA6;\n",
              "    }\n",
              "\n",
              "    [theme=dark] .colab-df-convert {\n",
              "      background-color: #3B4455;\n",
              "      fill: #D2E3FC;\n",
              "    }\n",
              "\n",
              "    [theme=dark] .colab-df-convert:hover {\n",
              "      background-color: #434B5C;\n",
              "      box-shadow: 0px 1px 3px 1px rgba(0, 0, 0, 0.15);\n",
              "      filter: drop-shadow(0px 1px 2px rgba(0, 0, 0, 0.3));\n",
              "      fill: #FFFFFF;\n",
              "    }\n",
              "  </style>\n",
              "\n",
              "      <script>\n",
              "        const buttonEl =\n",
              "          document.querySelector('#df-a960c024-b80d-4aaf-89be-e8a45be93e64 button.colab-df-convert');\n",
              "        buttonEl.style.display =\n",
              "          google.colab.kernel.accessAllowed ? 'block' : 'none';\n",
              "\n",
              "        async function convertToInteractive(key) {\n",
              "          const element = document.querySelector('#df-a960c024-b80d-4aaf-89be-e8a45be93e64');\n",
              "          const dataTable =\n",
              "            await google.colab.kernel.invokeFunction('convertToInteractive',\n",
              "                                                     [key], {});\n",
              "          if (!dataTable) return;\n",
              "\n",
              "          const docLinkHtml = 'Like what you see? Visit the ' +\n",
              "            '<a target=\"_blank\" href=https://colab.research.google.com/notebooks/data_table.ipynb>data table notebook</a>'\n",
              "            + ' to learn more about interactive tables.';\n",
              "          element.innerHTML = '';\n",
              "          dataTable['output_type'] = 'display_data';\n",
              "          await google.colab.output.renderOutput(dataTable, element);\n",
              "          const docLink = document.createElement('div');\n",
              "          docLink.innerHTML = docLinkHtml;\n",
              "          element.appendChild(docLink);\n",
              "        }\n",
              "      </script>\n",
              "    </div>\n",
              "  </div>\n",
              "  "
            ]
          },
          "metadata": {},
          "execution_count": 176
        }
      ]
    },
    {
      "cell_type": "code",
      "source": [
        "for i in range(6):\n",
        "\n",
        "    mean_model = df_cross.iloc[:,0:5].mean(axis=1)[i]\n",
        "    std_model = df_cross.iloc[:,0:5].std(axis=1)[i]\n",
        "    \n",
        "    print('Le modèle N° '+ str(i) + ' a une accuray de '  + str(mean_model) + ' et un std : ' + str(std_model))"
      ],
      "metadata": {
        "colab": {
          "base_uri": "https://localhost:8080/"
        },
        "id": "iqIRYfbywkhi",
        "outputId": "6817544c-0a19-44a2-f9f0-c26dd23cfa5a"
      },
      "execution_count": 177,
      "outputs": [
        {
          "output_type": "stream",
          "name": "stdout",
          "text": [
            "Le modèle N° 0 a une accuray de 0.6880902712274063 et un std : 0.006709582065318697\n",
            "Le modèle N° 1 a une accuray de 0.6869595064075863 et un std : 0.006598758660117157\n",
            "Le modèle N° 2 a une accuray de 0.6777303266272057 et un std : 0.010951446219826176\n",
            "Le modèle N° 3 a une accuray de 0.6537089007641287 et un std : 0.00549969711055786\n",
            "Le modèle N° 4 a une accuray de 0.7764126668671469 et un std : 0.004076124527066552\n",
            "Le modèle N° 5 a une accuray de 0.7540416497783822 et un std : 0.0058405525681124205\n"
          ]
        }
      ]
    },
    {
      "cell_type": "markdown",
      "metadata": {
        "id": "vlSDDyeic3E4"
      },
      "source": [
        "Les modèles svc avec un noyau rbf et polynomial ont les meilleurs score de précision en moyenne sur les 5 folds, mais le modèle svc avec noyau rbf est tout de même le meilleur, avec 77,6%. C'est également le modèle avec la variance la plus faible. De plus ces modèles ont été entainé avec toutes les valeurs d'hyper-paramètres par défauts (à part la régréssion logistique et le linéaire svc qui n'ont pas d'hyper-paramètres). Nous allons donc tuner notre svm avec noyaux rbf. "
      ]
    },
    {
      "cell_type": "code",
      "source": [
        "#variable les plus importantes pour svm linéaire \n",
        "svm_f_importances(lgr.coef_[0],X_train_sc.columns)"
      ],
      "metadata": {
        "colab": {
          "base_uri": "https://localhost:8080/",
          "height": 268
        },
        "id": "7AKbe84IdDvW",
        "outputId": "1de3c2bd-15e6-4175-d373-10e1996ee114"
      },
      "execution_count": 178,
      "outputs": [
        {
          "output_type": "display_data",
          "data": {
            "text/plain": [
              "<Figure size 432x288 with 1 Axes>"
            ],
            "image/png": "[encoded data removed]"
          },
          "metadata": {}
        }
      ]
    },
    {
      "cell_type": "markdown",
      "source": [
        "###*Grid Search sur le SVM avec noyau rbf*"
      ],
      "metadata": {
        "id": "8Gkaf83yKwcO"
      }
    },
    {
      "cell_type": "markdown",
      "source": [
        "On tune le meilleur modèle "
      ],
      "metadata": {
        "id": "hQTEMqb2VfiC"
      }
    },
    {
      "cell_type": "code",
      "source": [
        "#On tune le kernel rbf avec plusieurs hyper-paramètres différents \n",
        "params = [\n",
        "    {\"kernel\": [\"rbf\"], \"gamma\": [0.01, 0.1,0.5,1,2], \"C\": [1, 10, 100]}\n",
        "    \n",
        "]\n",
        "\n",
        "c_svc = SVC(random_state=0)\n",
        "\n",
        "grid_c_svc = GridSearchCV(c_svc, param_grid=params, cv=5, return_train_score=True)"
      ],
      "metadata": {
        "id": "3t0GTE7VnT0t"
      },
      "execution_count": null,
      "outputs": []
    },
    {
      "cell_type": "code",
      "source": [
        "take_grid = grid_c_svc.fit(X_train_sc, y_train)\n"
      ],
      "metadata": {
        "id": "3e_fvdZKdHMd"
      },
      "execution_count": null,
      "outputs": []
    },
    {
      "cell_type": "code",
      "source": [
        "#On garde le meilleur modèle et on refait un grid search uniquement sur ce modèle\n",
        "print(\"La meilleur combinaison d'estimateur est: \" + str(take_grid.best_params_)+\"\\n\"\n",
        "      \"pour un score de: \" + str(take_grid.best_score_))"
      ],
      "metadata": {
        "id": "febOppuddJ-U",
        "colab": {
          "base_uri": "https://localhost:8080/"
        },
        "outputId": "a96c9c76-3772-45a1-d9d0-114236c5cc07"
      },
      "execution_count": null,
      "outputs": [
        {
          "output_type": "stream",
          "name": "stdout",
          "text": [
            "La meilleur combinaison d'estimateur est: {'C': 100, 'gamma': 2, 'kernel': 'rbf'}\n",
            "pour un score de: 0.932826001483056\n"
          ]
        }
      ]
    },
    {
      "cell_type": "code",
      "source": [
        "#SVM avec kernel rbf\n",
        "svc_rbf_final = SVC(kernel='rbf', gamma=2, C=100,random_state=0)\n",
        "svc_rbf_final.fit(X_train_sc,y_train)\n",
        "y_pred_svc_rbf_final=svc_rbf_final.predict(X_test_sc)"
      ],
      "metadata": {
        "id": "aGpdcQfu7Tra"
      },
      "execution_count": null,
      "outputs": []
    },
    {
      "cell_type": "code",
      "source": [
        "recall_svc_rbf = recall_score(y_test, y_pred_svc_rbf_final)\n",
        "print(\"recall_svc_rbf \",recall_svc_rbf)\n",
        "\n",
        "\n",
        "f1_svc_rbf = f1_score(y_test, y_pred_svc_rbf_final)\n",
        "print(\"f1 svc rbf \",f1_svc_rbf)\n",
        "\n",
        "auc_svc_rbf = roc_auc_score(y_test, y_pred_svc_rbf_final)\n",
        "print(\"auc svc rbf\",auc_svc_rbf)\n",
        "\n",
        "conf_matrix_svc_rbf = confusion_matrix(y_test, y_pred_svc_rbf_final)\n",
        "print(\"matrice svc rbf\",conf_matrix_svc_rbf)"
      ],
      "metadata": {
        "colab": {
          "base_uri": "https://localhost:8080/"
        },
        "id": "lH53hzGR9lQe",
        "outputId": "0d28351d-ae14-4f31-d8b0-291685340c80"
      },
      "execution_count": null,
      "outputs": [
        {
          "output_type": "stream",
          "name": "stdout",
          "text": [
            "recall_svc_rbf  0.9768643859217327\n",
            "f1 svc rbf  0.9396306818181819\n",
            "auc svc rbf 0.9379222366714054\n",
            "matrice svc rbf [[3702  416]\n",
            " [  94 3969]]\n"
          ]
        }
      ]
    },
    {
      "cell_type": "markdown",
      "source": [
        "On compare avec le jeu train pour vérifier qu'il n'y ait pas de sur ou sous ajustement"
      ],
      "metadata": {
        "id": "EOocBb3_Da0H"
      }
    },
    {
      "cell_type": "code",
      "source": [
        "y_pred=svc_rbf_final.predict(X_train_sc)\n",
        "\n",
        "recall_svc_rbf = recall_score(y_train, y_pred)\n",
        "print(\"recall_svc_rbf \",recall_svc_rbf)\n",
        "\n",
        "f1_svc_rbf = f1_score(y_train, y_pred)\n",
        "print(\"f1 svc rbf \",f1_svc_rbf)\n",
        "\n",
        "auc_svc_rbf = roc_auc_score(y_train, y_pred)\n",
        "print(\"auc svc rbf\",auc_svc_rbf)\n",
        "\n",
        "conf_matrix_svc_rbf = confusion_matrix(y_train, y_pred)\n",
        "print(\"matrice svc rbf\",conf_matrix_svc_rbf)"
      ],
      "metadata": {
        "colab": {
          "base_uri": "https://localhost:8080/"
        },
        "id": "Uk63XrIhCwlx",
        "outputId": "cf083865-08bb-4fb0-fe5a-4a3347d5597d"
      },
      "execution_count": null,
      "outputs": [
        {
          "output_type": "stream",
          "name": "stdout",
          "text": [
            "recall_svc_rbf  0.987436726230408\n",
            "f1 svc rbf  0.9694338831841451\n",
            "auc svc rbf 0.9687551188123371\n",
            "matrice svc rbf [[15509   815]\n",
            " [  206 16191]]\n"
          ]
        }
      ]
    },
    {
      "cell_type": "markdown",
      "source": [
        "Les valeurs entre le jeu train et test sont très proches donc même si les score avec notre jeu test sont élevés, nous ne soupçonnons pas de sur ou sous ajustement avec notre modèle. "
      ],
      "metadata": {
        "id": "LxClp0f7DkyZ"
      }
    },
    {
      "cell_type": "markdown",
      "source": [
        "## *2. Réseau de neuronnes*"
      ],
      "metadata": {
        "id": "i8IOMMLnw_lc"
      }
    },
    {
      "cell_type": "code",
      "source": [
        "#Indicateur de modèle\n",
        "def indicateur(model,X,y,ech) :\n",
        "    model.predict(X)\n",
        "    valid_pred=model.predict(X).round()\n",
        "    \n",
        "    print(\"\\033[1m\" + \"Indicateur de l'échantillon \" + ech + \" : \" + '\\033[0m')\n",
        "    print(\"Matrice de confusion : {}\".format(str(confusion_matrix(y, valid_pred))))\n",
        "    print(\"Qualité du modèle : {}\".format(str(round(metrics.accuracy_score(y, valid_pred),2))))\n",
        "    print(\"Taux d'erreur : {}\".format(str(round(1-metrics.accuracy_score(y, valid_pred),2))))\n",
        "\n",
        "    print(\"Recall : {}\".format(str(round(metrics.recall_score(y, valid_pred, average=\"macro\"),2))))\n",
        "    print(\"Precision : {}\".format(str(round(metrics.precision_score(y, valid_pred, average=\"macro\"),2))))\n",
        "    print(\"F1 score : {}\".format(str(round(metrics.f1_score(y, valid_pred, average=\"macro\"),2))))"
      ],
      "metadata": {
        "id": "HR9bTQHTIli2"
      },
      "execution_count": null,
      "outputs": []
    },
    {
      "cell_type": "code",
      "source": [
        "keras.backend.clear_session()"
      ],
      "metadata": {
        "id": "uFyggfmeWkwi"
      },
      "execution_count": null,
      "outputs": []
    },
    {
      "cell_type": "code",
      "source": [
        "#X_train, X_test, y_train, y_test = train_test_split(features, output, test_size=0.25)\n",
        "\n",
        "keras.backend.clear_session()\n",
        "\n",
        "model0 = Sequential()\n",
        "model0.add(Dense(100,input_dim=X_train_sc.shape[1], activation='relu'))\n",
        "model0.add(Dense(1, activation='sigmoid'))\n",
        "model0.compile(loss='binary_crossentropy', optimizer='adam', metrics=['recall'])\n",
        "\n",
        "print(model0.summary())\n"
      ],
      "metadata": {
        "id": "R7QWDU9sYD0U",
        "colab": {
          "base_uri": "https://localhost:8080/"
        },
        "outputId": "ede9d40b-fd6e-4c4a-99da-1e6ebe64adf7"
      },
      "execution_count": null,
      "outputs": [
        {
          "output_type": "stream",
          "name": "stdout",
          "text": [
            "Model: \"sequential\"\n",
            "_________________________________________________________________\n",
            " Layer (type)                Output Shape              Param #   \n",
            "=================================================================\n",
            " dense (Dense)               (None, 100)               1500      \n",
            "                                                                 \n",
            " dense_1 (Dense)             (None, 1)                 101       \n",
            "                                                                 \n",
            "=================================================================\n",
            "Total params: 1,601\n",
            "Trainable params: 1,601\n",
            "Non-trainable params: 0\n",
            "_________________________________________________________________\n",
            "None\n"
          ]
        }
      ]
    },
    {
      "cell_type": "code",
      "source": [
        "#Compil model parameter\n",
        "model0.compile(loss=\"binary_crossentropy\", \n",
        "                  optimizer=\"adam\",\n",
        "                  metrics=[\"accuracy\"]\n",
        "                 )"
      ],
      "metadata": {
        "id": "8-xPOlhmGVvH"
      },
      "execution_count": null,
      "outputs": []
    },
    {
      "cell_type": "code",
      "source": [
        "history = model0.fit(X_train_sc, y_train, batch_size=256, epochs=30, validation_split=0.2)"
      ],
      "metadata": {
        "id": "_JcJxS5AYGxp",
        "colab": {
          "base_uri": "https://localhost:8080/"
        },
        "outputId": "640464a8-9fb7-49ff-a7b5-546cf8945351"
      },
      "execution_count": null,
      "outputs": [
        {
          "output_type": "stream",
          "name": "stdout",
          "text": [
            "Epoch 1/30\n",
            "103/103 [==============================] - 2s 7ms/step - loss: 0.6234 - accuracy: 0.6606 - val_loss: 0.5984 - val_accuracy: 0.6833\n",
            "Epoch 2/30\n",
            "103/103 [==============================] - 0s 3ms/step - loss: 0.5780 - accuracy: 0.6981 - val_loss: 0.5779 - val_accuracy: 0.6964\n",
            "Epoch 3/30\n",
            "103/103 [==============================] - 0s 3ms/step - loss: 0.5632 - accuracy: 0.7089 - val_loss: 0.5668 - val_accuracy: 0.7082\n",
            "Epoch 4/30\n",
            "103/103 [==============================] - 0s 3ms/step - loss: 0.5531 - accuracy: 0.7160 - val_loss: 0.5584 - val_accuracy: 0.7091\n",
            "Epoch 5/30\n",
            "103/103 [==============================] - 0s 3ms/step - loss: 0.5451 - accuracy: 0.7224 - val_loss: 0.5539 - val_accuracy: 0.7126\n",
            "Epoch 6/30\n",
            "103/103 [==============================] - 0s 3ms/step - loss: 0.5390 - accuracy: 0.7265 - val_loss: 0.5470 - val_accuracy: 0.7190\n",
            "Epoch 7/30\n",
            "103/103 [==============================] - 0s 3ms/step - loss: 0.5329 - accuracy: 0.7298 - val_loss: 0.5402 - val_accuracy: 0.7257\n",
            "Epoch 8/30\n",
            "103/103 [==============================] - 0s 3ms/step - loss: 0.5273 - accuracy: 0.7344 - val_loss: 0.5353 - val_accuracy: 0.7253\n",
            "Epoch 9/30\n",
            "103/103 [==============================] - 0s 3ms/step - loss: 0.5223 - accuracy: 0.7386 - val_loss: 0.5302 - val_accuracy: 0.7303\n",
            "Epoch 10/30\n",
            "103/103 [==============================] - 0s 3ms/step - loss: 0.5173 - accuracy: 0.7420 - val_loss: 0.5263 - val_accuracy: 0.7322\n",
            "Epoch 11/30\n",
            "103/103 [==============================] - 0s 3ms/step - loss: 0.5130 - accuracy: 0.7456 - val_loss: 0.5213 - val_accuracy: 0.7392\n",
            "Epoch 12/30\n",
            "103/103 [==============================] - 0s 3ms/step - loss: 0.5085 - accuracy: 0.7502 - val_loss: 0.5182 - val_accuracy: 0.7396\n",
            "Epoch 13/30\n",
            "103/103 [==============================] - 0s 3ms/step - loss: 0.5040 - accuracy: 0.7531 - val_loss: 0.5137 - val_accuracy: 0.7415\n",
            "Epoch 14/30\n",
            "103/103 [==============================] - 0s 3ms/step - loss: 0.5001 - accuracy: 0.7537 - val_loss: 0.5081 - val_accuracy: 0.7453\n",
            "Epoch 15/30\n",
            "103/103 [==============================] - 0s 3ms/step - loss: 0.4956 - accuracy: 0.7568 - val_loss: 0.5047 - val_accuracy: 0.7497\n",
            "Epoch 16/30\n",
            "103/103 [==============================] - 0s 3ms/step - loss: 0.4928 - accuracy: 0.7590 - val_loss: 0.5013 - val_accuracy: 0.7532\n",
            "Epoch 17/30\n",
            "103/103 [==============================] - 0s 3ms/step - loss: 0.4892 - accuracy: 0.7617 - val_loss: 0.4971 - val_accuracy: 0.7552\n",
            "Epoch 18/30\n",
            "103/103 [==============================] - 0s 3ms/step - loss: 0.4851 - accuracy: 0.7616 - val_loss: 0.4944 - val_accuracy: 0.7557\n",
            "Epoch 19/30\n",
            "103/103 [==============================] - 0s 3ms/step - loss: 0.4811 - accuracy: 0.7657 - val_loss: 0.4897 - val_accuracy: 0.7581\n",
            "Epoch 20/30\n",
            "103/103 [==============================] - 0s 3ms/step - loss: 0.4784 - accuracy: 0.7665 - val_loss: 0.4850 - val_accuracy: 0.7670\n",
            "Epoch 21/30\n",
            "103/103 [==============================] - 0s 3ms/step - loss: 0.4745 - accuracy: 0.7704 - val_loss: 0.4838 - val_accuracy: 0.7617\n",
            "Epoch 22/30\n",
            "103/103 [==============================] - 0s 3ms/step - loss: 0.4713 - accuracy: 0.7722 - val_loss: 0.4795 - val_accuracy: 0.7655\n",
            "Epoch 23/30\n",
            "103/103 [==============================] - 0s 3ms/step - loss: 0.4682 - accuracy: 0.7748 - val_loss: 0.4776 - val_accuracy: 0.7681\n",
            "Epoch 24/30\n",
            "103/103 [==============================] - 0s 3ms/step - loss: 0.4649 - accuracy: 0.7770 - val_loss: 0.4733 - val_accuracy: 0.7725\n",
            "Epoch 25/30\n",
            "103/103 [==============================] - 0s 3ms/step - loss: 0.4618 - accuracy: 0.7777 - val_loss: 0.4699 - val_accuracy: 0.7762\n",
            "Epoch 26/30\n",
            "103/103 [==============================] - 0s 3ms/step - loss: 0.4592 - accuracy: 0.7802 - val_loss: 0.4670 - val_accuracy: 0.7844\n",
            "Epoch 27/30\n",
            "103/103 [==============================] - 0s 3ms/step - loss: 0.4560 - accuracy: 0.7804 - val_loss: 0.4641 - val_accuracy: 0.7772\n",
            "Epoch 28/30\n",
            "103/103 [==============================] - 0s 3ms/step - loss: 0.4538 - accuracy: 0.7840 - val_loss: 0.4614 - val_accuracy: 0.7878\n",
            "Epoch 29/30\n",
            "103/103 [==============================] - 0s 3ms/step - loss: 0.4513 - accuracy: 0.7848 - val_loss: 0.4594 - val_accuracy: 0.7809\n",
            "Epoch 30/30\n",
            "103/103 [==============================] - 0s 3ms/step - loss: 0.4482 - accuracy: 0.7884 - val_loss: 0.4567 - val_accuracy: 0.7890\n"
          ]
        }
      ]
    },
    {
      "cell_type": "code",
      "source": [
        "#model0.fit(X_train_sc, y_train, batch_size=256, epochs=30, validation_split=0.2)"
      ],
      "metadata": {
        "id": "oskmytlrQlSj"
      },
      "execution_count": null,
      "outputs": []
    },
    {
      "cell_type": "code",
      "source": [
        "from sklearn import metrics\n",
        "indicateur(model0,X_train_sc, y_train,\"Train\")\n",
        "indicateur(model0,X_test_sc, y_test,\"Test\")"
      ],
      "metadata": {
        "colab": {
          "base_uri": "https://localhost:8080/"
        },
        "id": "klGQRV3jH3k0",
        "outputId": "39cba4ca-f127-4f8f-dbd6-cacd35f7a92e"
      },
      "execution_count": null,
      "outputs": [
        {
          "output_type": "stream",
          "name": "stdout",
          "text": [
            "1023/1023 [==============================] - 2s 2ms/step\n",
            "1023/1023 [==============================] - 1s 1ms/step\n",
            "\u001b[1mIndicateur de l'échantillon Train : \u001b[0m\n",
            "Matrice de confusion : [[12788  3536]\n",
            " [ 3443 12954]]\n",
            "Qualité du modèle : 0.79\n",
            "Taux d'erreur : 0.21\n",
            "Recall : 0.79\n",
            "Precision : 0.79\n",
            "F1 score : 0.79\n",
            "256/256 [==============================] - 0s 1ms/step\n",
            "256/256 [==============================] - 0s 1ms/step\n",
            "\u001b[1mIndicateur de l'échantillon Test : \u001b[0m\n",
            "Matrice de confusion : [[3216  902]\n",
            " [ 881 3182]]\n",
            "Qualité du modèle : 0.78\n",
            "Taux d'erreur : 0.22\n",
            "Recall : 0.78\n",
            "Precision : 0.78\n",
            "F1 score : 0.78\n"
          ]
        }
      ]
    },
    {
      "cell_type": "markdown",
      "source": [
        "###*Grid Search sur le RN*"
      ],
      "metadata": {
        "id": "KThzOiVYxede"
      }
    },
    {
      "cell_type": "code",
      "source": [
        "#Réseau de neurones\n",
        "def build_clf(n_hidden,n_neurons,input_shape):\n",
        "    keras.backend.clear_session()\n",
        "    \n",
        "    model = keras.models.Sequential()\n",
        "    model.add(keras.layers.Input(shape=input_shape))#input layer\n",
        "    \n",
        "    for layer in range(n_hidden):\n",
        "        model.add(keras.layers.Dense(units=n_neurons, activation='relu'))\n",
        "\n",
        "    model.add(keras.layers.Dense(units=1, activation='sigmoid'))\n",
        "    model.compile(loss = 'binary_crossentropy',optimizer = 'adam',metrics = ['accuracy'])\n",
        "    return model\n"
      ],
      "metadata": {
        "id": "isWuIpPx-ngo"
      },
      "execution_count": null,
      "outputs": []
    },
    {
      "cell_type": "code",
      "source": [
        "#X_train_sc4 = np.asarray(X_train_sc3).astype(np.float32)\n",
        "#X_test_sc4 = np.asarray(X_test_sc3).astype(np.float32)"
      ],
      "metadata": {
        "id": "CcWykiFlCElG"
      },
      "execution_count": null,
      "outputs": []
    },
    {
      "cell_type": "code",
      "source": [
        "keras.backend.clear_session()"
      ],
      "metadata": {
        "id": "MQGvszHDeipO"
      },
      "execution_count": null,
      "outputs": []
    },
    {
      "cell_type": "code",
      "source": [
        "#!pip install scikeras"
      ],
      "metadata": {
        "id": "MCiSCaWNL548"
      },
      "execution_count": null,
      "outputs": []
    },
    {
      "cell_type": "code",
      "source": [
        "#from scikeras.wrappers import KerasClassifier\n",
        "from keras.wrappers.scikit_learn import KerasClassifier\n",
        "import time"
      ],
      "metadata": {
        "id": "kOUpx33hL0vy"
      },
      "execution_count": null,
      "outputs": []
    },
    {
      "cell_type": "code",
      "source": [
        "keras.backend.clear_session()"
      ],
      "metadata": {
        "id": "lPby7Ws844g3"
      },
      "execution_count": null,
      "outputs": []
    },
    {
      "cell_type": "code",
      "source": [
        "ann_model=KerasClassifier(build_fn=build_clf)"
      ],
      "metadata": {
        "id": "K60Cn-t-9Y-_",
        "colab": {
          "base_uri": "https://localhost:8080/"
        },
        "outputId": "67ba3493-f8a1-48e1-c374-fcc771e47662"
      },
      "execution_count": null,
      "outputs": [
        {
          "output_type": "stream",
          "name": "stderr",
          "text": [
            "<ipython-input-103-20b530f7deca>:1: DeprecationWarning: KerasClassifier is deprecated, use Sci-Keras (https://github.com/adriangb/scikeras) instead. See https://www.adriangb.com/scikeras/stable/migration.html for help migrating.\n",
            "  ann_model=KerasClassifier(build_fn=build_clf)\n"
          ]
        }
      ]
    },
    {
      "cell_type": "code",
      "source": [
        "#Réseau de neurones : GridSearch \n",
        "t0 = time.time()\n",
        "\n",
        "params={\n",
        "    \"n_hidden\": [1,2,3],\n",
        "    'n_neurons':[10,25,50,75,100],\n",
        "    'input_shape' : [14],\n",
        "        }\n",
        "\n",
        "\n",
        "gs=GridSearchCV(estimator=ann_model, param_grid=params, cv=5)\n"
      ],
      "metadata": {
        "id": "KKPrqTts_s2y"
      },
      "execution_count": null,
      "outputs": []
    },
    {
      "cell_type": "code",
      "source": [
        "grid_ann = gs.fit(X_train_sc, y_train)\n",
        "\n",
        "t1 = time.time()\n",
        "print(\"{} s\".format(t1 - t0))"
      ],
      "metadata": {
        "id": "lARN-t2z9ZB3",
        "colab": {
          "base_uri": "https://localhost:8080/"
        },
        "outputId": "77cea505-c987-4b52-e862-d0a58c5a09b1"
      },
      "execution_count": null,
      "outputs": [
        {
          "output_type": "stream",
          "name": "stdout",
          "text": [
            "818/818 [==============================] - 2s 2ms/step - loss: 0.6163 - accuracy: 0.6557\n",
            "205/205 [==============================] - 1s 2ms/step - loss: 0.5886 - accuracy: 0.6773\n",
            "819/819 [==============================] - 2s 2ms/step - loss: 0.6364 - accuracy: 0.6417\n",
            "205/205 [==============================] - 1s 2ms/step - loss: 0.5902 - accuracy: 0.6982\n",
            "819/819 [==============================] - 3s 2ms/step - loss: 0.6264 - accuracy: 0.6489\n",
            "205/205 [==============================] - 0s 2ms/step - loss: 0.5946 - accuracy: 0.6909\n",
            "819/819 [==============================] - 2s 2ms/step - loss: 0.6266 - accuracy: 0.6570\n",
            "205/205 [==============================] - 0s 1ms/step - loss: 0.5893 - accuracy: 0.6982\n",
            "819/819 [==============================] - 2s 2ms/step - loss: 0.6363 - accuracy: 0.6351\n",
            "205/205 [==============================] - 0s 1ms/step - loss: 0.6062 - accuracy: 0.6808\n",
            "818/818 [==============================] - 3s 3ms/step - loss: 0.5998 - accuracy: 0.6858\n",
            "205/205 [==============================] - 1s 2ms/step - loss: 0.5766 - accuracy: 0.6972\n",
            "819/819 [==============================] - 2s 2ms/step - loss: 0.6175 - accuracy: 0.6587\n",
            "205/205 [==============================] - 0s 1ms/step - loss: 0.5750 - accuracy: 0.7075\n",
            "819/819 [==============================] - 2s 2ms/step - loss: 0.6051 - accuracy: 0.6744\n",
            "205/205 [==============================] - 0s 2ms/step - loss: 0.5793 - accuracy: 0.6965\n",
            "819/819 [==============================] - 2s 2ms/step - loss: 0.6159 - accuracy: 0.6614\n",
            "205/205 [==============================] - 1s 3ms/step - loss: 0.5750 - accuracy: 0.7028\n",
            "819/819 [==============================] - 3s 3ms/step - loss: 0.5991 - accuracy: 0.6833\n",
            "205/205 [==============================] - 0s 2ms/step - loss: 0.5872 - accuracy: 0.6875\n",
            "818/818 [==============================] - 2s 2ms/step - loss: 0.5903 - accuracy: 0.6916\n",
            "205/205 [==============================] - 0s 2ms/step - loss: 0.5697 - accuracy: 0.6967\n",
            "819/819 [==============================] - 2s 2ms/step - loss: 0.5968 - accuracy: 0.6795\n",
            "205/205 [==============================] - 0s 2ms/step - loss: 0.5602 - accuracy: 0.7168\n",
            "819/819 [==============================] - 3s 3ms/step - loss: 0.5912 - accuracy: 0.6868\n",
            "205/205 [==============================] - 0s 1ms/step - loss: 0.5683 - accuracy: 0.7077\n",
            "819/819 [==============================] - 2s 2ms/step - loss: 0.5999 - accuracy: 0.6762\n",
            "205/205 [==============================] - 0s 1ms/step - loss: 0.5635 - accuracy: 0.7124\n",
            "819/819 [==============================] - 2s 2ms/step - loss: 0.5949 - accuracy: 0.6853\n",
            "205/205 [==============================] - 0s 2ms/step - loss: 0.5739 - accuracy: 0.7032\n",
            "818/818 [==============================] - 2s 2ms/step - loss: 0.5871 - accuracy: 0.6937\n",
            "205/205 [==============================] - 1s 2ms/step - loss: 0.5657 - accuracy: 0.7045\n",
            "819/819 [==============================] - 3s 2ms/step - loss: 0.5869 - accuracy: 0.6918\n",
            "205/205 [==============================] - 0s 2ms/step - loss: 0.5594 - accuracy: 0.7107\n",
            "819/819 [==============================] - 2s 2ms/step - loss: 0.5915 - accuracy: 0.6882\n",
            "205/205 [==============================] - 0s 2ms/step - loss: 0.5656 - accuracy: 0.7055\n",
            "819/819 [==============================] - 2s 2ms/step - loss: 0.5840 - accuracy: 0.6956\n",
            "205/205 [==============================] - 0s 1ms/step - loss: 0.5546 - accuracy: 0.7204\n",
            "819/819 [==============================] - 3s 3ms/step - loss: 0.5817 - accuracy: 0.6938\n",
            "205/205 [==============================] - 0s 2ms/step - loss: 0.5655 - accuracy: 0.7052\n",
            "818/818 [==============================] - 2s 2ms/step - loss: 0.5810 - accuracy: 0.6967\n",
            "205/205 [==============================] - 0s 2ms/step - loss: 0.5620 - accuracy: 0.7079\n",
            "819/819 [==============================] - 2s 2ms/step - loss: 0.5878 - accuracy: 0.6914\n",
            "205/205 [==============================] - 0s 1ms/step - loss: 0.5533 - accuracy: 0.7219\n",
            "819/819 [==============================] - 3s 3ms/step - loss: 0.5848 - accuracy: 0.6964\n",
            "205/205 [==============================] - 0s 1ms/step - loss: 0.5598 - accuracy: 0.7126\n",
            "819/819 [==============================] - 2s 2ms/step - loss: 0.5872 - accuracy: 0.6898\n",
            "205/205 [==============================] - 0s 2ms/step - loss: 0.5514 - accuracy: 0.7222\n",
            "819/819 [==============================] - 2s 2ms/step - loss: 0.5828 - accuracy: 0.6924\n",
            "205/205 [==============================] - 0s 2ms/step - loss: 0.5667 - accuracy: 0.7078\n",
            "818/818 [==============================] - 3s 3ms/step - loss: 0.6176 - accuracy: 0.6625\n",
            "205/205 [==============================] - 1s 2ms/step - loss: 0.5849 - accuracy: 0.6952\n",
            "819/819 [==============================] - 2s 2ms/step - loss: 0.6133 - accuracy: 0.6618\n",
            "205/205 [==============================] - 0s 2ms/step - loss: 0.5779 - accuracy: 0.6977\n",
            "819/819 [==============================] - 2s 2ms/step - loss: 0.6252 - accuracy: 0.6444\n",
            "205/205 [==============================] - 0s 2ms/step - loss: 0.5845 - accuracy: 0.6921\n",
            "819/819 [==============================] - 2s 2ms/step - loss: 0.6163 - accuracy: 0.6699\n",
            "205/205 [==============================] - 0s 2ms/step - loss: 0.5774 - accuracy: 0.7080\n",
            "819/819 [==============================] - 3s 3ms/step - loss: 0.6067 - accuracy: 0.6714\n",
            "205/205 [==============================] - 0s 1ms/step - loss: 0.5880 - accuracy: 0.6928\n",
            "818/818 [==============================] - 2s 2ms/step - loss: 0.5866 - accuracy: 0.6949\n",
            "205/205 [==============================] - 0s 1ms/step - loss: 0.5612 - accuracy: 0.7103\n",
            "819/819 [==============================] - 2s 2ms/step - loss: 0.5906 - accuracy: 0.6817\n",
            "205/205 [==============================] - 0s 1ms/step - loss: 0.5495 - accuracy: 0.7184\n",
            "819/819 [==============================] - 2s 2ms/step - loss: 0.5923 - accuracy: 0.6893\n",
            "205/205 [==============================] - 1s 2ms/step - loss: 0.5645 - accuracy: 0.7110\n",
            "819/819 [==============================] - 3s 3ms/step - loss: 0.5968 - accuracy: 0.6807\n",
            "205/205 [==============================] - 0s 2ms/step - loss: 0.5544 - accuracy: 0.7217\n",
            "819/819 [==============================] - 2s 2ms/step - loss: 0.5893 - accuracy: 0.6851\n",
            "205/205 [==============================] - 0s 2ms/step - loss: 0.5686 - accuracy: 0.7045\n",
            "818/818 [==============================] - 2s 2ms/step - loss: 0.5731 - accuracy: 0.7012\n",
            "205/205 [==============================] - 0s 1ms/step - loss: 0.5503 - accuracy: 0.7169\n",
            "819/819 [==============================] - 3s 3ms/step - loss: 0.5728 - accuracy: 0.7002\n",
            "205/205 [==============================] - 0s 2ms/step - loss: 0.5414 - accuracy: 0.7259\n",
            "819/819 [==============================] - 2s 2ms/step - loss: 0.5783 - accuracy: 0.6943\n",
            "205/205 [==============================] - 0s 1ms/step - loss: 0.5411 - accuracy: 0.7297\n",
            "819/819 [==============================] - 2s 2ms/step - loss: 0.5707 - accuracy: 0.7025\n",
            "205/205 [==============================] - 1s 2ms/step - loss: 0.5304 - accuracy: 0.7350\n",
            "819/819 [==============================] - 3s 3ms/step - loss: 0.5738 - accuracy: 0.6988\n",
            "205/205 [==============================] - 0s 2ms/step - loss: 0.5545 - accuracy: 0.7112\n",
            "818/818 [==============================] - 3s 3ms/step - loss: 0.5647 - accuracy: 0.7063\n",
            "205/205 [==============================] - 0s 1ms/step - loss: 0.5338 - accuracy: 0.7271\n",
            "819/819 [==============================] - 3s 3ms/step - loss: 0.5659 - accuracy: 0.7070\n",
            "205/205 [==============================] - 0s 2ms/step - loss: 0.5340 - accuracy: 0.7333\n",
            "819/819 [==============================] - 4s 4ms/step - loss: 0.5653 - accuracy: 0.7015\n",
            "205/205 [==============================] - 0s 2ms/step - loss: 0.5287 - accuracy: 0.7280\n",
            "819/819 [==============================] - 3s 3ms/step - loss: 0.5647 - accuracy: 0.7062\n",
            "205/205 [==============================] - 0s 2ms/step - loss: 0.5252 - accuracy: 0.7336\n",
            "819/819 [==============================] - 2s 2ms/step - loss: 0.5636 - accuracy: 0.7080\n",
            "205/205 [==============================] - 0s 2ms/step - loss: 0.5394 - accuracy: 0.7184\n",
            "818/818 [==============================] - 3s 4ms/step - loss: 0.5559 - accuracy: 0.7131\n",
            "205/205 [==============================] - 0s 2ms/step - loss: 0.5266 - accuracy: 0.7404\n",
            "819/819 [==============================] - 2s 2ms/step - loss: 0.5594 - accuracy: 0.7115\n",
            "205/205 [==============================] - 0s 1ms/step - loss: 0.5237 - accuracy: 0.7369\n",
            "819/819 [==============================] - 2s 2ms/step - loss: 0.5590 - accuracy: 0.7116\n",
            "205/205 [==============================] - 0s 2ms/step - loss: 0.5263 - accuracy: 0.7338\n",
            "819/819 [==============================] - 3s 3ms/step - loss: 0.5608 - accuracy: 0.7108\n",
            "205/205 [==============================] - 0s 1ms/step - loss: 0.5175 - accuracy: 0.7453\n",
            "819/819 [==============================] - 3s 3ms/step - loss: 0.5572 - accuracy: 0.7120\n",
            "205/205 [==============================] - 0s 1ms/step - loss: 0.5295 - accuracy: 0.7196\n",
            "818/818 [==============================] - 3s 3ms/step - loss: 0.6160 - accuracy: 0.6577\n",
            "205/205 [==============================] - 1s 2ms/step - loss: 0.5844 - accuracy: 0.6862\n",
            "819/819 [==============================] - 2s 2ms/step - loss: 0.6253 - accuracy: 0.6526\n",
            "205/205 [==============================] - 0s 2ms/step - loss: 0.5702 - accuracy: 0.7058\n",
            "819/819 [==============================] - 2s 2ms/step - loss: 0.6046 - accuracy: 0.6654\n",
            "205/205 [==============================] - 0s 2ms/step - loss: 0.5702 - accuracy: 0.7048\n",
            "819/819 [==============================] - 2s 2ms/step - loss: 0.6004 - accuracy: 0.6795\n",
            "205/205 [==============================] - 1s 2ms/step - loss: 0.5623 - accuracy: 0.7098\n",
            "819/819 [==============================] - 3s 2ms/step - loss: 0.6190 - accuracy: 0.6620\n",
            "205/205 [==============================] - 0s 1ms/step - loss: 0.5957 - accuracy: 0.6864\n",
            "818/818 [==============================] - 2s 2ms/step - loss: 0.5932 - accuracy: 0.6857\n",
            "205/205 [==============================] - 0s 1ms/step - loss: 0.5593 - accuracy: 0.7105\n",
            "819/819 [==============================] - 2s 2ms/step - loss: 0.5841 - accuracy: 0.6918\n",
            "205/205 [==============================] - 0s 2ms/step - loss: 0.5478 - accuracy: 0.7184\n",
            "819/819 [==============================] - 4s 4ms/step - loss: 0.5858 - accuracy: 0.6874\n",
            "205/205 [==============================] - 0s 2ms/step - loss: 0.5570 - accuracy: 0.7164\n",
            "819/819 [==============================] - 2s 2ms/step - loss: 0.5861 - accuracy: 0.6903\n",
            "205/205 [==============================] - 0s 2ms/step - loss: 0.5424 - accuracy: 0.7240\n",
            "819/819 [==============================] - 2s 2ms/step - loss: 0.5781 - accuracy: 0.6942\n",
            "205/205 [==============================] - 0s 2ms/step - loss: 0.5467 - accuracy: 0.7158\n",
            "818/818 [==============================] - 3s 3ms/step - loss: 0.5622 - accuracy: 0.7056\n",
            "205/205 [==============================] - 1s 2ms/step - loss: 0.5157 - accuracy: 0.7300\n",
            "819/819 [==============================] - 3s 2ms/step - loss: 0.5668 - accuracy: 0.7042\n",
            "205/205 [==============================] - 1s 2ms/step - loss: 0.5237 - accuracy: 0.7367\n",
            "819/819 [==============================] - 2s 2ms/step - loss: 0.5577 - accuracy: 0.7119\n",
            "205/205 [==============================] - 0s 2ms/step - loss: 0.5232 - accuracy: 0.7330\n",
            "819/819 [==============================] - 2s 2ms/step - loss: 0.5642 - accuracy: 0.7073\n",
            "205/205 [==============================] - 1s 2ms/step - loss: 0.5127 - accuracy: 0.7454\n",
            "819/819 [==============================] - 3s 2ms/step - loss: 0.5548 - accuracy: 0.7160\n",
            "205/205 [==============================] - 1s 2ms/step - loss: 0.5200 - accuracy: 0.7343\n",
            "818/818 [==============================] - 3s 3ms/step - loss: 0.5547 - accuracy: 0.7095\n",
            "205/205 [==============================] - 0s 2ms/step - loss: 0.5137 - accuracy: 0.7427\n",
            "819/819 [==============================] - 3s 3ms/step - loss: 0.5532 - accuracy: 0.7100\n",
            "205/205 [==============================] - 1s 2ms/step - loss: 0.5066 - accuracy: 0.7498\n",
            "819/819 [==============================] - 4s 4ms/step - loss: 0.5574 - accuracy: 0.7093\n",
            "205/205 [==============================] - 0s 2ms/step - loss: 0.5150 - accuracy: 0.7326\n",
            "819/819 [==============================] - 3s 3ms/step - loss: 0.5544 - accuracy: 0.7126\n",
            "205/205 [==============================] - 0s 2ms/step - loss: 0.5050 - accuracy: 0.7437\n",
            "819/819 [==============================] - 4s 4ms/step - loss: 0.5549 - accuracy: 0.7107\n",
            "205/205 [==============================] - 0s 2ms/step - loss: 0.5241 - accuracy: 0.7295\n",
            "818/818 [==============================] - 3s 3ms/step - loss: 0.5467 - accuracy: 0.7186\n",
            "205/205 [==============================] - 0s 2ms/step - loss: 0.4967 - accuracy: 0.7574\n",
            "819/819 [==============================] - 3s 3ms/step - loss: 0.5433 - accuracy: 0.7210\n",
            "205/205 [==============================] - 0s 2ms/step - loss: 0.4973 - accuracy: 0.7453\n",
            "819/819 [==============================] - 4s 4ms/step - loss: 0.5450 - accuracy: 0.7174\n",
            "205/205 [==============================] - 0s 2ms/step - loss: 0.4924 - accuracy: 0.7518\n",
            "819/819 [==============================] - 3s 3ms/step - loss: 0.5476 - accuracy: 0.7162\n",
            "205/205 [==============================] - 0s 2ms/step - loss: 0.4927 - accuracy: 0.7569\n",
            "819/819 [==============================] - 3s 3ms/step - loss: 0.5453 - accuracy: 0.7186\n",
            "205/205 [==============================] - 1s 3ms/step - loss: 0.5100 - accuracy: 0.7353\n",
            "1023/1023 [==============================] - 4s 3ms/step - loss: 0.5371 - accuracy: 0.7234\n",
            "308.59616231918335 s\n"
          ]
        }
      ]
    },
    {
      "cell_type": "code",
      "source": [
        "print(grid_ann.best_params_, grid_ann.best_score_)"
      ],
      "metadata": {
        "colab": {
          "base_uri": "https://localhost:8080/"
        },
        "id": "MKoIX9k09ZEX",
        "outputId": "fa0e2f13-55fe-430a-c517-4490381892e6"
      },
      "execution_count": null,
      "outputs": [
        {
          "output_type": "stream",
          "name": "stdout",
          "text": [
            "{'input_shape': 14, 'n_hidden': 3, 'n_neurons': 100} 0.7493350386619568\n"
          ]
        }
      ]
    },
    {
      "cell_type": "code",
      "source": [
        "n_hidden=grid_ann.best_params_[\"n_hidden\"]\n",
        "n_neurons=grid_ann.best_params_[\"n_neurons\"]\n",
        "input_shape=grid_ann.best_params_[\"input_shape\"]"
      ],
      "metadata": {
        "id": "zYT7BADs9ZGX"
      },
      "execution_count": null,
      "outputs": []
    },
    {
      "cell_type": "code",
      "source": [
        "#Meilleur modèle\n",
        "ann_best=build_clf(n_hidden, n_neurons,input_shape)\n",
        "history=ann_best.fit(X_train_sc, y_train,batch_size=272,epochs=50, validation_split=0.2)"
      ],
      "metadata": {
        "id": "L7VpKY4p9ZIV",
        "colab": {
          "base_uri": "https://localhost:8080/"
        },
        "outputId": "b2bb3e04-359f-43cc-f7d4-234d281c2d61"
      },
      "execution_count": null,
      "outputs": [
        {
          "output_type": "stream",
          "name": "stdout",
          "text": [
            "Epoch 1/50\n",
            "97/97 [==============================] - 1s 7ms/step - loss: 0.5930 - accuracy: 0.6847 - val_loss: 0.5623 - val_accuracy: 0.7066\n",
            "Epoch 2/50\n",
            "97/97 [==============================] - 1s 6ms/step - loss: 0.5327 - accuracy: 0.7282 - val_loss: 0.5280 - val_accuracy: 0.7207\n",
            "Epoch 3/50\n",
            "97/97 [==============================] - 1s 6ms/step - loss: 0.4936 - accuracy: 0.7536 - val_loss: 0.4824 - val_accuracy: 0.7626\n",
            "Epoch 4/50\n",
            "97/97 [==============================] - 1s 6ms/step - loss: 0.4557 - accuracy: 0.7775 - val_loss: 0.4473 - val_accuracy: 0.7840\n",
            "Epoch 5/50\n",
            "97/97 [==============================] - 1s 5ms/step - loss: 0.4225 - accuracy: 0.7995 - val_loss: 0.4133 - val_accuracy: 0.8066\n",
            "Epoch 6/50\n",
            "97/97 [==============================] - 1s 6ms/step - loss: 0.3929 - accuracy: 0.8152 - val_loss: 0.3860 - val_accuracy: 0.8248\n",
            "Epoch 7/50\n",
            "97/97 [==============================] - 1s 5ms/step - loss: 0.3605 - accuracy: 0.8333 - val_loss: 0.3582 - val_accuracy: 0.8376\n",
            "Epoch 8/50\n",
            "97/97 [==============================] - 1s 6ms/step - loss: 0.3378 - accuracy: 0.8459 - val_loss: 0.3236 - val_accuracy: 0.8584\n",
            "Epoch 9/50\n",
            "97/97 [==============================] - 1s 5ms/step - loss: 0.3108 - accuracy: 0.8591 - val_loss: 0.3026 - val_accuracy: 0.8698\n",
            "Epoch 10/50\n",
            "97/97 [==============================] - 1s 10ms/step - loss: 0.2839 - accuracy: 0.8752 - val_loss: 0.2795 - val_accuracy: 0.8828\n",
            "Epoch 11/50\n",
            "97/97 [==============================] - 1s 11ms/step - loss: 0.2668 - accuracy: 0.8825 - val_loss: 0.2554 - val_accuracy: 0.8946\n",
            "Epoch 12/50\n",
            "97/97 [==============================] - 1s 11ms/step - loss: 0.2509 - accuracy: 0.8924 - val_loss: 0.2764 - val_accuracy: 0.8770\n",
            "Epoch 13/50\n",
            "97/97 [==============================] - 1s 6ms/step - loss: 0.2320 - accuracy: 0.9013 - val_loss: 0.2383 - val_accuracy: 0.8941\n",
            "Epoch 14/50\n",
            "97/97 [==============================] - 1s 6ms/step - loss: 0.2155 - accuracy: 0.9115 - val_loss: 0.2172 - val_accuracy: 0.9158\n",
            "Epoch 15/50\n",
            "97/97 [==============================] - 1s 6ms/step - loss: 0.2056 - accuracy: 0.9153 - val_loss: 0.2920 - val_accuracy: 0.8570\n",
            "Epoch 16/50\n",
            "97/97 [==============================] - 1s 7ms/step - loss: 0.2052 - accuracy: 0.9171 - val_loss: 0.2145 - val_accuracy: 0.9042\n",
            "Epoch 17/50\n",
            "97/97 [==============================] - 1s 5ms/step - loss: 0.1950 - accuracy: 0.9206 - val_loss: 0.1921 - val_accuracy: 0.9262\n",
            "Epoch 18/50\n",
            "97/97 [==============================] - 1s 6ms/step - loss: 0.1847 - accuracy: 0.9257 - val_loss: 0.1834 - val_accuracy: 0.9230\n",
            "Epoch 19/50\n",
            "97/97 [==============================] - 1s 6ms/step - loss: 0.1714 - accuracy: 0.9335 - val_loss: 0.1830 - val_accuracy: 0.9267\n",
            "Epoch 20/50\n",
            "97/97 [==============================] - 1s 6ms/step - loss: 0.1686 - accuracy: 0.9347 - val_loss: 0.1807 - val_accuracy: 0.9213\n",
            "Epoch 21/50\n",
            "97/97 [==============================] - 1s 5ms/step - loss: 0.1588 - accuracy: 0.9400 - val_loss: 0.1563 - val_accuracy: 0.9441\n",
            "Epoch 22/50\n",
            "97/97 [==============================] - 1s 6ms/step - loss: 0.1516 - accuracy: 0.9414 - val_loss: 0.1575 - val_accuracy: 0.9401\n",
            "Epoch 23/50\n",
            "97/97 [==============================] - 1s 7ms/step - loss: 0.1510 - accuracy: 0.9413 - val_loss: 0.1545 - val_accuracy: 0.9412\n",
            "Epoch 24/50\n",
            "97/97 [==============================] - 1s 9ms/step - loss: 0.1436 - accuracy: 0.9464 - val_loss: 0.1429 - val_accuracy: 0.9488\n",
            "Epoch 25/50\n",
            "97/97 [==============================] - 1s 9ms/step - loss: 0.1441 - accuracy: 0.9452 - val_loss: 0.1377 - val_accuracy: 0.9499\n",
            "Epoch 26/50\n",
            "97/97 [==============================] - 1s 10ms/step - loss: 0.1356 - accuracy: 0.9490 - val_loss: 0.1897 - val_accuracy: 0.9095\n",
            "Epoch 27/50\n",
            "97/97 [==============================] - 1s 6ms/step - loss: 0.1411 - accuracy: 0.9442 - val_loss: 0.1499 - val_accuracy: 0.9378\n",
            "Epoch 28/50\n",
            "97/97 [==============================] - 1s 9ms/step - loss: 0.1277 - accuracy: 0.9512 - val_loss: 0.1304 - val_accuracy: 0.9513\n",
            "Epoch 29/50\n",
            "97/97 [==============================] - 1s 10ms/step - loss: 0.1205 - accuracy: 0.9563 - val_loss: 0.1638 - val_accuracy: 0.9201\n",
            "Epoch 30/50\n",
            "97/97 [==============================] - 1s 11ms/step - loss: 0.1207 - accuracy: 0.9552 - val_loss: 0.1256 - val_accuracy: 0.9528\n",
            "Epoch 31/50\n",
            "97/97 [==============================] - 1s 6ms/step - loss: 0.1177 - accuracy: 0.9564 - val_loss: 0.1457 - val_accuracy: 0.9416\n",
            "Epoch 32/50\n",
            "97/97 [==============================] - 1s 6ms/step - loss: 0.1137 - accuracy: 0.9586 - val_loss: 0.1447 - val_accuracy: 0.9395\n",
            "Epoch 33/50\n",
            "97/97 [==============================] - 1s 6ms/step - loss: 0.1147 - accuracy: 0.9571 - val_loss: 0.1146 - val_accuracy: 0.9607\n",
            "Epoch 34/50\n",
            "97/97 [==============================] - 1s 6ms/step - loss: 0.1121 - accuracy: 0.9581 - val_loss: 0.1106 - val_accuracy: 0.9604\n",
            "Epoch 35/50\n",
            "97/97 [==============================] - 1s 5ms/step - loss: 0.1106 - accuracy: 0.9594 - val_loss: 0.1307 - val_accuracy: 0.9502\n",
            "Epoch 36/50\n",
            "97/97 [==============================] - 1s 6ms/step - loss: 0.1071 - accuracy: 0.9613 - val_loss: 0.1070 - val_accuracy: 0.9617\n",
            "Epoch 37/50\n",
            "97/97 [==============================] - 1s 6ms/step - loss: 0.1046 - accuracy: 0.9612 - val_loss: 0.1137 - val_accuracy: 0.9566\n",
            "Epoch 38/50\n",
            "97/97 [==============================] - 1s 6ms/step - loss: 0.1025 - accuracy: 0.9613 - val_loss: 0.1072 - val_accuracy: 0.9610\n",
            "Epoch 39/50\n",
            "97/97 [==============================] - 1s 6ms/step - loss: 0.0999 - accuracy: 0.9634 - val_loss: 0.1152 - val_accuracy: 0.9572\n",
            "Epoch 40/50\n",
            "97/97 [==============================] - 1s 5ms/step - loss: 0.0985 - accuracy: 0.9641 - val_loss: 0.0929 - val_accuracy: 0.9685\n",
            "Epoch 41/50\n",
            "97/97 [==============================] - 1s 6ms/step - loss: 0.0913 - accuracy: 0.9678 - val_loss: 0.1467 - val_accuracy: 0.9329\n",
            "Epoch 42/50\n",
            "97/97 [==============================] - 1s 5ms/step - loss: 0.0954 - accuracy: 0.9647 - val_loss: 0.1035 - val_accuracy: 0.9572\n",
            "Epoch 43/50\n",
            "97/97 [==============================] - 1s 6ms/step - loss: 0.0949 - accuracy: 0.9666 - val_loss: 0.1262 - val_accuracy: 0.9438\n",
            "Epoch 44/50\n",
            "97/97 [==============================] - 1s 6ms/step - loss: 0.0942 - accuracy: 0.9650 - val_loss: 0.0866 - val_accuracy: 0.9702\n",
            "Epoch 45/50\n",
            "97/97 [==============================] - 1s 6ms/step - loss: 0.0922 - accuracy: 0.9661 - val_loss: 0.1145 - val_accuracy: 0.9583\n",
            "Epoch 46/50\n",
            "97/97 [==============================] - 1s 6ms/step - loss: 0.0963 - accuracy: 0.9648 - val_loss: 0.0903 - val_accuracy: 0.9699\n",
            "Epoch 47/50\n",
            "97/97 [==============================] - 1s 5ms/step - loss: 0.0962 - accuracy: 0.9641 - val_loss: 0.1095 - val_accuracy: 0.9571\n",
            "Epoch 48/50\n",
            "97/97 [==============================] - 1s 6ms/step - loss: 0.0910 - accuracy: 0.9670 - val_loss: 0.0921 - val_accuracy: 0.9662\n",
            "Epoch 49/50\n",
            "97/97 [==============================] - 1s 9ms/step - loss: 0.0813 - accuracy: 0.9723 - val_loss: 0.0810 - val_accuracy: 0.9713\n",
            "Epoch 50/50\n",
            "97/97 [==============================] - 1s 10ms/step - loss: 0.0791 - accuracy: 0.9728 - val_loss: 0.0922 - val_accuracy: 0.9647\n"
          ]
        }
      ]
    },
    {
      "cell_type": "code",
      "source": [
        "indicateur(ann_best,X_train_sc, y_train,\"Train\")\n",
        "indicateur(ann_best,X_test_sc, y_test,\"Test\")"
      ],
      "metadata": {
        "colab": {
          "base_uri": "https://localhost:8080/"
        },
        "id": "ZyeMGbvVJqz4",
        "outputId": "f14e80ce-2f3e-4f07-c142-52f7f90280ae"
      },
      "execution_count": null,
      "outputs": [
        {
          "output_type": "stream",
          "name": "stdout",
          "text": [
            "1023/1023 [==============================] - 2s 2ms/step\n",
            "1023/1023 [==============================] - 2s 1ms/step\n",
            "\u001b[1mIndicateur de l'échantillon Train : \u001b[0m\n",
            "Matrice de confusion : [[15755   569]\n",
            " [  513 15884]]\n",
            "Qualité du modèle : 0.97\n",
            "Taux d'erreur : 0.03\n",
            "Recall : 0.97\n",
            "Precision : 0.97\n",
            "F1 score : 0.97\n",
            "256/256 [==============================] - 0s 1ms/step\n",
            "256/256 [==============================] - 0s 1ms/step\n",
            "\u001b[1mIndicateur de l'échantillon Test : \u001b[0m\n",
            "Matrice de confusion : [[3959  159]\n",
            " [ 143 3920]]\n",
            "Qualité du modèle : 0.96\n",
            "Taux d'erreur : 0.04\n",
            "Recall : 0.96\n",
            "Precision : 0.96\n",
            "F1 score : 0.96\n"
          ]
        }
      ]
    }
  ]
}